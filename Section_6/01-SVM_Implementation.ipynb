{
 "cells": [
  {
   "cell_type": "code",
   "execution_count": 1,
   "metadata": {
    "collapsed": true
   },
   "outputs": [],
   "source": [
    "import numpy as np\n",
    "import matplotlib.pyplot as plt\n",
    "%matplotlib inline"
   ]
  },
  {
   "cell_type": "code",
   "execution_count": 2,
   "metadata": {},
   "outputs": [
    {
     "data": {
      "text/plain": [
       "[<matplotlib.lines.Line2D at 0x2aa054f2dd8>]"
      ]
     },
     "execution_count": 2,
     "metadata": {},
     "output_type": "execute_result"
    },
    {
     "data": {
      "image/png": "[encoded data removed]",
      "text/plain": [
       "<matplotlib.figure.Figure at 0x2aa054f2e48>"
      ]
     },
     "metadata": {},
     "output_type": "display_data"
    }
   ],
   "source": [
    "# bias variable\n",
    "X = np.array([\n",
    "    [-1,4,-1],\n",
    "    [1,7,-1],\n",
    "    [3,6,-1],\n",
    "    [6,2,-1],\n",
    "    [8,8,-1],\n",
    "    [7,7,-1],\n",
    "    [8,4,-1]\n",
    "])\n",
    "\n",
    "y = np.array([1,1,1,1,-1,-1,-1])\n",
    "\n",
    "for i,sample in enumerate(X):\n",
    "    if i < 4:\n",
    "        plt.scatter(sample[0], sample[1], marker='+', s=100)\n",
    "    else:\n",
    "        plt.scatter(sample[0], sample[1], marker='_', s=100)\n",
    "\n",
    "plt.xlim(-1,12)\n",
    "plt.plot([3,8],[7,2])"
   ]
  },
  {
   "cell_type": "code",
   "execution_count": 99,
   "metadata": {
    "collapsed": true
   },
   "outputs": [],
   "source": [
    "def svm_gd(X,y, nb_epoch):\n",
    "    \n",
    "    eta = 1\n",
    "    w = np.zeros([3])\n",
    "    \n",
    "    errors = []\n",
    "    \n",
    "    for epoch in range(1,nb_epoch):\n",
    "        error = 0\n",
    "        \n",
    "        for i in range(len(X)):\n",
    "            if np.any(y[i] * (np.dot(X[i],w)) < 1):\n",
    "                w = w + eta * ((y[i] * X[i]) + (-2 * (1 / epoch) * w))\n",
    "#                 print(\"Inside If\")\n",
    "                error = 1\n",
    "            else:\n",
    "                w = w + eta * (-2 * (1/epoch) * w)\n",
    "#                 print(\"Inside Else\")\n",
    "            \n",
    "        errors.append(error)\n",
    "    \n",
    "    return errors, w\n",
    "    "
   ]
  },
  {
   "cell_type": "code",
   "execution_count": 100,
   "metadata": {},
   "outputs": [],
   "source": [
    "err, weight = svm_gd(X,y,100000)"
   ]
  },
  {
   "cell_type": "code",
   "execution_count": 101,
   "metadata": {},
   "outputs": [
    {
     "data": {
      "text/plain": [
       "99999"
      ]
     },
     "execution_count": 101,
     "metadata": {},
     "output_type": "execute_result"
    }
   ],
   "source": [
    "len(err)"
   ]
  },
  {
   "cell_type": "code",
   "execution_count": 104,
   "metadata": {},
   "outputs": [
    {
     "data": {
      "text/plain": [
       "(-0.5, 1.5)"
      ]
     },
     "execution_count": 104,
     "metadata": {},
     "output_type": "execute_result"
    },
    {
     "data": {
      "image/png": "[encoded data removed]",
      "text/plain": [
       "<matplotlib.figure.Figure at 0x2aa09fbd0b8>"
      ]
     },
     "metadata": {},
     "output_type": "display_data"
    }
   ],
   "source": [
    "plt.plot(err,'|')\n",
    "plt.ylim(-0.5,1.5)"
   ]
  },
  {
   "cell_type": "code",
   "execution_count": 81,
   "metadata": {},
   "outputs": [],
   "source": [
    "# w = np.zeros([3])\n",
    "# eta = 0.1\n",
    "# nb_epoch = 1000\n",
    "# for epoch in range(1,nb_epoch):\n",
    "#     for i in range(len(X)):\n",
    "#         if np.any(y[i] * (np.dot(X[i],w)) < 1):\n",
    "#             w = w + eta * ((y[i] * X[i]) + (-2 * (1 / epoch) * w) )\n",
    "#             print(w)\n",
    "#         else:\n",
    "#             w = w + eta * (-2 * (1/epoch) * w)\n",
    "#             print(\"Inside Else..........\")\n",
    "#             print(w)"
   ]
  },
  {
   "cell_type": "code",
   "execution_count": 105,
   "metadata": {},
   "outputs": [
    {
     "data": {
      "text/plain": [
       "array([ -6.7616946 ,   0.16527797, -44.31588331])"
      ]
     },
     "execution_count": 105,
     "metadata": {},
     "output_type": "execute_result"
    }
   ],
   "source": [
    "weight"
   ]
  },
  {
   "cell_type": "code",
   "execution_count": 106,
   "metadata": {},
   "outputs": [
    {
     "data": {
      "text/plain": [
       "<matplotlib.quiver.Quiver at 0x2aa0b16aba8>"
      ]
     },
     "execution_count": 106,
     "metadata": {},
     "output_type": "execute_result"
    },
    {
     "data": {
      "image/png": "[encoded data removed]",
      "text/plain": [
       "<matplotlib.figure.Figure at 0x2aa0b16ae10>"
      ]
     },
     "metadata": {},
     "output_type": "display_data"
    }
   ],
   "source": [
    "for i, sample in enumerate(X):\n",
    "    \n",
    "    if i < 2:\n",
    "        plt.scatter(sample[0], sample[1], marker='+', s=120, c='r')\n",
    "    \n",
    "    else:\n",
    "        plt.scatter(sample[0], sample[1], marker='_', s=120, c='b')\n",
    "        \n",
    "        \n",
    "x2 = np.array([weight[0], weight[1], -weight[1], weight[0]])\n",
    "x3 = np.array([weight[0], weight[1], weight[1], -weight[0]])\n",
    "\n",
    "x2x3 = np.array([x2,x3])\n",
    "\n",
    "X,Y,U,V = zip(*x2x3)\n",
    "\n",
    "axes = plt.gca()\n",
    "\n",
    "axes.quiver(X,Y,U,V, scale=1)"
   ]
  },
  {
   "cell_type": "code",
   "execution_count": null,
   "metadata": {},
   "outputs": [],
   "source": []
  },
  {
   "cell_type": "code",
   "execution_count": null,
   "metadata": {
    "collapsed": true
   },
   "outputs": [],
   "source": []
  }
 ],
 "metadata": {
  "kernelspec": {
   "display_name": "Python 3",
   "language": "python",
   "name": "python3"
  },
  "language_info": {
   "codemirror_mode": {
    "name": "ipython",
    "version": 3
   },
   "file_extension": ".py",
   "mimetype": "text/x-python",
   "name": "python",
   "nbconvert_exporter": "python",
   "pygments_lexer": "ipython3",
   "version": "3.5.4"
  }
 },
 "nbformat": 4,
 "nbformat_minor": 2
}
