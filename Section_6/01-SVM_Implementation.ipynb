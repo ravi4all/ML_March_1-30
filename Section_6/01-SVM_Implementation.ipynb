{
 "cells": [
  {
   "cell_type": "code",
   "execution_count": 4,
   "metadata": {},
   "outputs": [],
   "source": [
    "import numpy as np\n",
    "import matplotlib.pyplot as plt\n",
    "%matplotlib inline"
   ]
  },
  {
   "cell_type": "code",
   "execution_count": 11,
   "metadata": {},
   "outputs": [
    {
     "data": {
      "text/plain": [
       "[<matplotlib.lines.Line2D at 0x17d6d609c50>]"
      ]
     },
     "execution_count": 11,
     "metadata": {},
     "output_type": "execute_result"
    },
    {
     "data": {
      "image/png": "[encoded data removed]",
      "text/plain": [
       "<matplotlib.figure.Figure at 0x17d6d609400>"
      ]
     },
     "metadata": {},
     "output_type": "display_data"
    }
   ],
   "source": [
    "X = np.array([\n",
    "    [-1,4,-1],\n",
    "    [1,7,-1],\n",
    "    [3,6,-1],\n",
    "    [6,2,-1],\n",
    "    [8,8,-1],\n",
    "    [7,7,-1],\n",
    "    [8,4,-1]\n",
    "])\n",
    "\n",
    "y = np.array([1,1,1,1,-1,-1,-1])\n",
    "\n",
    "for i,sample in enumerate(X):\n",
    "    if i < 4:\n",
    "        plt.scatter(sample[0], sample[1], marker='+', s=100)\n",
    "    else:\n",
    "        plt.scatter(sample[0], sample[1], marker='_', s=100)\n",
    "\n",
    "plt.xlim(-1,12)\n",
    "plt.plot([3,8],[7,2])"
   ]
  },
  {
   "cell_type": "code",
   "execution_count": null,
   "metadata": {
    "collapsed": true
   },
   "outputs": [],
   "source": []
  }
 ],
 "metadata": {
  "kernelspec": {
   "display_name": "Python 3",
   "language": "python",
   "name": "python3"
  },
  "language_info": {
   "codemirror_mode": {
    "name": "ipython",
    "version": 3
   },
   "file_extension": ".py",
   "mimetype": "text/x-python",
   "name": "python",
   "nbconvert_exporter": "python",
   "pygments_lexer": "ipython3",
   "version": "3.5.4"
  }
 },
 "nbformat": 4,
 "nbformat_minor": 2
}
