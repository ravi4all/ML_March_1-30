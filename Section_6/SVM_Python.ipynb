{
 "cells": [
  {
   "cell_type": "code",
   "execution_count": 50,
   "metadata": {},
   "outputs": [],
   "source": [
    "import numpy as np\n",
    "import matplotlib.pyplot as plt\n",
    "from matplotlib import style\n",
    "%matplotlib inline"
   ]
  },
  {
   "cell_type": "code",
   "execution_count": 52,
   "metadata": {},
   "outputs": [
    {
     "data": {
      "text/plain": [
       "[<matplotlib.lines.Line2D at 0x28daad55710>]"
      ]
     },
     "execution_count": 52,
     "metadata": {},
     "output_type": "execute_result"
    },
    {
     "data": {
      "image/png": "[encoded data removed]",
      "text/plain": [
       "<matplotlib.figure.Figure at 0x28daad555c0>"
      ]
     },
     "metadata": {},
     "output_type": "display_data"
    }
   ],
   "source": [
    "X = np.array([\n",
    "    [-2,4,-1],\n",
    "    [4,1,-1],\n",
    "    [1,6,-1],\n",
    "    [2,4,-1],\n",
    "    [6,2,-1],\n",
    "])\n",
    "\n",
    "# Associated output labels\n",
    "# First 2 are labeled -1 and last 3 are 1\n",
    "y = np.array([-1,-1,1,1,1])\n",
    "\n",
    "# style.use('ggplot')\n",
    "style.use('fivethirtyeight')\n",
    "\n",
    "for d, sample in enumerate(X):\n",
    "    # Plot the negative samples (first 2)\n",
    "    if d < 2:\n",
    "        plt.scatter(sample[0], sample[1], s=120, marker='_',linewidths=2)\n",
    "    else:\n",
    "        plt.scatter(sample[0], sample[1], s=120, marker='+',linewidths=2)\n",
    "\n",
    "# Print a possible hyperplane that seperates two lines\n",
    "plt.plot([-2,6],[6,0.5])"
   ]
  },
  {
   "cell_type": "code",
   "execution_count": 3,
   "metadata": {
    "collapsed": true
   },
   "outputs": [],
   "source": [
    "def svm_gd(X,y,nb_epoch):\n",
    "    \n",
    "    w = np.zeros([3])\n",
    "    eta = 1\n",
    "    errors = []\n",
    "    \n",
    "    for epoch in range(1,nb_epoch):\n",
    "        error = 0\n",
    "        for i in range(len(X)):\n",
    "            if (y[i] * np.dot(X[i],w)) < 1:\n",
    "                w = w + eta * ((y[i] * X[i]) + (-2 * (1/epoch) * w))\n",
    "                error = 1\n",
    "#                 print(\"Inside If\")\n",
    "            else:\n",
    "                w = w + eta * (-2 * (1/epoch) * w)\n",
    "#                 print(\"Inside Else\")\n",
    "                \n",
    "        errors.append(error)\n",
    "    \n",
    "    return errors, w\n",
    "                "
   ]
  },
  {
   "cell_type": "code",
   "execution_count": 4,
   "metadata": {},
   "outputs": [],
   "source": [
    "error, weight = svm_gd(X,y, 10000)"
   ]
  },
  {
   "cell_type": "code",
   "execution_count": 5,
   "metadata": {},
   "outputs": [
    {
     "data": {
      "image/png": "[encoded data removed]",
      "text/plain": [
       "<matplotlib.figure.Figure at 0x28da91580f0>"
      ]
     },
     "metadata": {},
     "output_type": "display_data"
    }
   ],
   "source": [
    "plt.plot(error,'|')\n",
    "plt.ylim([0,1.5])\n",
    "plt.show()"
   ]
  },
  {
   "cell_type": "code",
   "execution_count": 6,
   "metadata": {},
   "outputs": [
    {
     "data": {
      "text/plain": [
       "array([  1.75528648,   3.4784601 ,  12.25751563])"
      ]
     },
     "execution_count": 6,
     "metadata": {},
     "output_type": "execute_result"
    }
   ],
   "source": [
    "weight"
   ]
  },
  {
   "cell_type": "code",
   "execution_count": 7,
   "metadata": {
    "collapsed": true
   },
   "outputs": [],
   "source": [
    "# for d, sample in enumerate(X):\n",
    "#     if d < 2:\n",
    "#         plt.scatter(sample[0], sample[1], s=120, marker='_',linewidths=2)\n",
    "#     else:\n",
    "#         plt.scatter(sample[0], sample[1], s=120, marker='+',linewidths=2)\n",
    "        \n",
    "x2 = np.array([weight[0],weight[1],-weight[1],weight[0]])\n",
    "x3 = np.array([weight[0],weight[1],weight[1],-weight[0]])\n",
    "\n",
    "x2x3 = np.array([x2,x3])\n"
   ]
  },
  {
   "cell_type": "code",
   "execution_count": 8,
   "metadata": {},
   "outputs": [
    {
     "data": {
      "text/plain": [
       "array([ 1.75528648,  3.4784601 , -3.4784601 ,  1.75528648])"
      ]
     },
     "execution_count": 8,
     "metadata": {},
     "output_type": "execute_result"
    }
   ],
   "source": [
    "x2"
   ]
  },
  {
   "cell_type": "code",
   "execution_count": 9,
   "metadata": {},
   "outputs": [
    {
     "data": {
      "text/plain": [
       "array([ 1.75528648,  3.4784601 ,  3.4784601 , -1.75528648])"
      ]
     },
     "execution_count": 9,
     "metadata": {},
     "output_type": "execute_result"
    }
   ],
   "source": [
    "x3"
   ]
  },
  {
   "cell_type": "code",
   "execution_count": 10,
   "metadata": {},
   "outputs": [
    {
     "data": {
      "text/plain": [
       "array([[ 1.75528648,  3.4784601 , -3.4784601 ,  1.75528648],\n",
       "       [ 1.75528648,  3.4784601 ,  3.4784601 , -1.75528648]])"
      ]
     },
     "execution_count": 10,
     "metadata": {},
     "output_type": "execute_result"
    }
   ],
   "source": [
    "x2x3"
   ]
  },
  {
   "cell_type": "code",
   "execution_count": 11,
   "metadata": {
    "collapsed": true
   },
   "outputs": [],
   "source": [
    "X,Y,U,V = zip(*x2x3)"
   ]
  },
  {
   "cell_type": "code",
   "execution_count": 12,
   "metadata": {},
   "outputs": [
    {
     "data": {
      "text/plain": [
       "(1.7552864799702415, 1.7552864799702415)"
      ]
     },
     "execution_count": 12,
     "metadata": {},
     "output_type": "execute_result"
    }
   ],
   "source": [
    "X"
   ]
  },
  {
   "cell_type": "code",
   "execution_count": 13,
   "metadata": {},
   "outputs": [
    {
     "data": {
      "text/plain": [
       "(3.4784600983277034, 3.4784600983277034)"
      ]
     },
     "execution_count": 13,
     "metadata": {},
     "output_type": "execute_result"
    }
   ],
   "source": [
    "Y"
   ]
  },
  {
   "cell_type": "code",
   "execution_count": 14,
   "metadata": {},
   "outputs": [
    {
     "data": {
      "text/plain": [
       "(-3.4784600983277034, 3.4784600983277034)"
      ]
     },
     "execution_count": 14,
     "metadata": {},
     "output_type": "execute_result"
    }
   ],
   "source": [
    "U"
   ]
  },
  {
   "cell_type": "code",
   "execution_count": 15,
   "metadata": {},
   "outputs": [
    {
     "data": {
      "text/plain": [
       "(1.7552864799702415, -1.7552864799702415)"
      ]
     },
     "execution_count": 15,
     "metadata": {},
     "output_type": "execute_result"
    }
   ],
   "source": [
    "V"
   ]
  },
  {
   "cell_type": "code",
   "execution_count": 55,
   "metadata": {},
   "outputs": [
    {
     "data": {
      "image/png": "[encoded data removed]",
      "text/plain": [
       "<matplotlib.figure.Figure at 0x28daafc3518>"
      ]
     },
     "metadata": {},
     "output_type": "display_data"
    }
   ],
   "source": [
    "for d, sample in enumerate(X):\n",
    "    if d < 2:\n",
    "        plt.scatter(sample[0], sample[1], s=120, marker='_',linewidths=2)\n",
    "    else:\n",
    "        plt.scatter(sample[0], sample[1], s=120, marker='+',linewidths=2)\n",
    "\n",
    "plt.scatter(2,2, s=120, marker='_', linewidths=2, color='yellow')\n",
    "plt.scatter(4,3, s=120, marker='+', linewidths=2, color='blue')\n",
    "\n",
    "style.use('ggplot')\n",
    "\n",
    "x,Y,U,V = zip(*x2x3)\n",
    "axes = plt.gca()\n",
    "axes.quiver(x,Y,U,V, scale=1)\n",
    "plt.show()"
   ]
  },
  {
   "cell_type": "code",
   "execution_count": null,
   "metadata": {
    "collapsed": true
   },
   "outputs": [],
   "source": []
  }
 ],
 "metadata": {
  "kernelspec": {
   "display_name": "Python 3",
   "language": "python",
   "name": "python3"
  },
  "language_info": {
   "codemirror_mode": {
    "name": "ipython",
    "version": 3
   },
   "file_extension": ".py",
   "mimetype": "text/x-python",
   "name": "python",
   "nbconvert_exporter": "python",
   "pygments_lexer": "ipython3",
   "version": "3.5.4"
  }
 },
 "nbformat": 4,
 "nbformat_minor": 2
}
