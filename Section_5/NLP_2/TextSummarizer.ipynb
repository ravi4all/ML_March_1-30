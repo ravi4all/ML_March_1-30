{
 "cells": [
  {
   "cell_type": "code",
   "execution_count": 14,
   "metadata": {
    "collapsed": true
   },
   "outputs": [],
   "source": [
    "from nltk.corpus import stopwords\n",
    "from nltk.stem import WordNetLemmatizer, PorterStemmer\n",
    "from nltk.tokenize import word_tokenize, sent_tokenize"
   ]
  },
  {
   "cell_type": "code",
   "execution_count": 15,
   "metadata": {
    "collapsed": true
   },
   "outputs": [],
   "source": [
    "text = \"\"\"\n",
    "I’ve been asked by a few friends to develop a feature for a\n",
    "WhatsApp chatbot of mine, that summarizes articles based on\n",
    "URL inputs. So when a friend sends an article to a WhatsApp\n",
    "group, the bot will reply with a summary of the given URL\n",
    "article. I like this feature because from my personal\n",
    "research, 65% of group users don’t even click the shared URLs,\n",
    "but 97% of them will read a few lines of the articles summary.\n",
    "As part of being a Fullstack developer, it is important to\n",
    "know how to choose the right stack for each product you\n",
    "develop, depending on the requirements and limitations.\n",
    "For web crawling, I love using Python. The Python community\n",
    "is filled with efficient, easy to implement open source\n",
    "libraries both for web crawling and text summarization.\n",
    "Once you’re done with this tutorial, you won’t believe how\n",
    "simple it is to implement the task.\n",
    "\"\"\""
   ]
  },
  {
   "cell_type": "code",
   "execution_count": 16,
   "metadata": {},
   "outputs": [],
   "source": [
    "words = word_tokenize(text)\n",
    "sentences = sent_tokenize(text)\n",
    "stopwords = set(stopwords.words(\"english\"))\n",
    "w_net = WordNetLemmatizer()\n",
    "ps = PorterStemmer()"
   ]
  },
  {
   "cell_type": "code",
   "execution_count": 17,
   "metadata": {
    "collapsed": true
   },
   "outputs": [],
   "source": [
    "freq_table = dict()\n",
    "\n",
    "for word in words:\n",
    "    word = word.lower()\n",
    "    \n",
    "    if word in stopwords:\n",
    "        continue\n",
    "        \n",
    "#     word = w_net.lemmatize(word, pos='v')\n",
    "    word = ps.stem(word)\n",
    "    \n",
    "    if word in freq_table:\n",
    "        freq_table[word] += 1\n",
    "    else:\n",
    "        freq_table[word] = 1"
   ]
  },
  {
   "cell_type": "code",
   "execution_count": 18,
   "metadata": {},
   "outputs": [
    {
     "name": "stdout",
     "output_type": "stream",
     "text": [
      "{'given': 1, 'web': 2, 'user': 1, 'easi': 1, 'task': 1, 'friend': 2, '%': 2, 'simpl': 1, 'chatbot': 1, 'mine': 1, 'stack': 1, 'commun': 1, 'tutori': 1, 'summar': 2, 'ask': 1, 'know': 1, 'base': 1, 'implement': 2, 'group': 2, 'line': 1, 'share': 1, '97': 1, '’': 4, 'click': 1, 'bot': 1, 'librari': 1, 'done': 1, 'requir': 1, 'import': 1, 'depend': 1, 'like': 1, 'love': 1, 'product': 1, 'fullstack': 1, 'person': 1, 'crawl': 2, 'part': 1, 'even': 1, 'read': 1, 'send': 1, 'python': 2, 'articl': 4, '.': 7, 'use': 1, 'whatsapp': 2, 'url': 3, ',': 9, 'believ': 1, 'open': 1, 'summari': 2, 'research': 1, 'input': 1, 'text': 1, 'repli': 1, 'fill': 1, 'sourc': 1, 'featur': 2, 'right': 1, '65': 1, 'limit': 1, 'choos': 1, 'develop': 3, 'effici': 1}\n"
     ]
    }
   ],
   "source": [
    "print(freq_table)"
   ]
  },
  {
   "cell_type": "code",
   "execution_count": 19,
   "metadata": {},
   "outputs": [
    {
     "name": "stdout",
     "output_type": "stream",
     "text": [
      "['\\nI’ve been asked by a few friends to develop a feature for a\\nWhatsApp chatbot of mine, that summarizes articles based on\\nURL inputs.', 'So when a friend sends an article to a WhatsApp\\ngroup, the bot will reply with a summary of the given URL\\narticle.', 'I like this feature because from my personal\\nresearch, 65% of group users don’t even click the shared URLs,\\nbut 97% of them will read a few lines of the articles summary.', 'As part of being a Fullstack developer, it is important to\\nknow how to choose the right stack for each product you\\ndevelop, depending on the requirements and limitations.', 'For web crawling, I love using Python.', 'The Python community\\nis filled with efficient, easy to implement open source\\nlibraries both for web crawling and text summarization.', 'Once you’re done with this tutorial, you won’t believe how\\nsimple it is to implement the task.']\n"
     ]
    }
   ],
   "source": [
    "print(sentences)"
   ]
  },
  {
   "cell_type": "code",
   "execution_count": 20,
   "metadata": {},
   "outputs": [
    {
     "data": {
      "text/plain": [
       "7"
      ]
     },
     "execution_count": 20,
     "metadata": {},
     "output_type": "execute_result"
    }
   ],
   "source": [
    "len(sentences)"
   ]
  },
  {
   "cell_type": "code",
   "execution_count": 37,
   "metadata": {},
   "outputs": [
    {
     "name": "stdout",
     "output_type": "stream",
     "text": [
      "Word => friend\n",
      "Sentence => \n",
      "I’ve been asked by a few friends to develop a feature for a\n",
      "WhatsApp chatbot of mine, that summarizes articles based on\n",
      "URL inputs.\n",
      "{'\\nI’ve been asked by a few friends to develop a feature for a\\nWhatsApp chatbot of mine, that summarizes articles based on\\nURL inputs.': 2}\n",
      "Word => chatbot\n",
      "Sentence => \n",
      "I’ve been asked by a few friends to develop a feature for a\n",
      "WhatsApp chatbot of mine, that summarizes articles based on\n",
      "URL inputs.\n",
      "{'\\nI’ve been asked by a few friends to develop a feature for a\\nWhatsApp chatbot of mine, that summarizes articles based on\\nURL inputs.': 3}\n",
      "Word => mine\n",
      "Sentence => \n",
      "I’ve been asked by a few friends to develop a feature for a\n",
      "WhatsApp chatbot of mine, that summarizes articles based on\n",
      "URL inputs.\n",
      "{'\\nI’ve been asked by a few friends to develop a feature for a\\nWhatsApp chatbot of mine, that summarizes articles based on\\nURL inputs.': 4}\n",
      "Word => summar\n",
      "Sentence => \n",
      "I’ve been asked by a few friends to develop a feature for a\n",
      "WhatsApp chatbot of mine, that summarizes articles based on\n",
      "URL inputs.\n",
      "{'\\nI’ve been asked by a few friends to develop a feature for a\\nWhatsApp chatbot of mine, that summarizes articles based on\\nURL inputs.': 6}\n",
      "Word => ask\n",
      "Sentence => \n",
      "I’ve been asked by a few friends to develop a feature for a\n",
      "WhatsApp chatbot of mine, that summarizes articles based on\n",
      "URL inputs.\n",
      "{'\\nI’ve been asked by a few friends to develop a feature for a\\nWhatsApp chatbot of mine, that summarizes articles based on\\nURL inputs.': 7}\n",
      "Word => base\n",
      "Sentence => \n",
      "I’ve been asked by a few friends to develop a feature for a\n",
      "WhatsApp chatbot of mine, that summarizes articles based on\n",
      "URL inputs.\n",
      "{'\\nI’ve been asked by a few friends to develop a feature for a\\nWhatsApp chatbot of mine, that summarizes articles based on\\nURL inputs.': 8}\n",
      "Word => ’\n",
      "Sentence => \n",
      "I’ve been asked by a few friends to develop a feature for a\n",
      "WhatsApp chatbot of mine, that summarizes articles based on\n",
      "URL inputs.\n",
      "{'\\nI’ve been asked by a few friends to develop a feature for a\\nWhatsApp chatbot of mine, that summarizes articles based on\\nURL inputs.': 12}\n",
      "Word => bot\n",
      "Sentence => \n",
      "I’ve been asked by a few friends to develop a feature for a\n",
      "WhatsApp chatbot of mine, that summarizes articles based on\n",
      "URL inputs.\n",
      "{'\\nI’ve been asked by a few friends to develop a feature for a\\nWhatsApp chatbot of mine, that summarizes articles based on\\nURL inputs.': 13}\n",
      "Word => articl\n",
      "Sentence => \n",
      "I’ve been asked by a few friends to develop a feature for a\n",
      "WhatsApp chatbot of mine, that summarizes articles based on\n",
      "URL inputs.\n",
      "{'\\nI’ve been asked by a few friends to develop a feature for a\\nWhatsApp chatbot of mine, that summarizes articles based on\\nURL inputs.': 17}\n",
      "Word => .\n",
      "Sentence => \n",
      "I’ve been asked by a few friends to develop a feature for a\n",
      "WhatsApp chatbot of mine, that summarizes articles based on\n",
      "URL inputs.\n",
      "{'\\nI’ve been asked by a few friends to develop a feature for a\\nWhatsApp chatbot of mine, that summarizes articles based on\\nURL inputs.': 24}\n",
      "Word => ,\n",
      "Sentence => \n",
      "I’ve been asked by a few friends to develop a feature for a\n",
      "WhatsApp chatbot of mine, that summarizes articles based on\n",
      "URL inputs.\n",
      "{'\\nI’ve been asked by a few friends to develop a feature for a\\nWhatsApp chatbot of mine, that summarizes articles based on\\nURL inputs.': 33}\n",
      "Word => summari\n",
      "Sentence => \n",
      "I’ve been asked by a few friends to develop a feature for a\n",
      "WhatsApp chatbot of mine, that summarizes articles based on\n",
      "URL inputs.\n",
      "{'\\nI’ve been asked by a few friends to develop a feature for a\\nWhatsApp chatbot of mine, that summarizes articles based on\\nURL inputs.': 35}\n",
      "Word => input\n",
      "Sentence => \n",
      "I’ve been asked by a few friends to develop a feature for a\n",
      "WhatsApp chatbot of mine, that summarizes articles based on\n",
      "URL inputs.\n",
      "{'\\nI’ve been asked by a few friends to develop a feature for a\\nWhatsApp chatbot of mine, that summarizes articles based on\\nURL inputs.': 36}\n",
      "Word => featur\n",
      "Sentence => \n",
      "I’ve been asked by a few friends to develop a feature for a\n",
      "WhatsApp chatbot of mine, that summarizes articles based on\n",
      "URL inputs.\n",
      "{'\\nI’ve been asked by a few friends to develop a feature for a\\nWhatsApp chatbot of mine, that summarizes articles based on\\nURL inputs.': 38}\n",
      "Word => develop\n",
      "Sentence => \n",
      "I’ve been asked by a few friends to develop a feature for a\n",
      "WhatsApp chatbot of mine, that summarizes articles based on\n",
      "URL inputs.\n",
      "{'\\nI’ve been asked by a few friends to develop a feature for a\\nWhatsApp chatbot of mine, that summarizes articles based on\\nURL inputs.': 41}\n",
      "Word => given\n",
      "Sentence => So when a friend sends an article to a WhatsApp\n",
      "group, the bot will reply with a summary of the given URL\n",
      "article.\n",
      "{'\\nI’ve been asked by a few friends to develop a feature for a\\nWhatsApp chatbot of mine, that summarizes articles based on\\nURL inputs.': 41, 'So when a friend sends an article to a WhatsApp\\ngroup, the bot will reply with a summary of the given URL\\narticle.': 1}\n",
      "Word => friend\n",
      "Sentence => So when a friend sends an article to a WhatsApp\n",
      "group, the bot will reply with a summary of the given URL\n",
      "article.\n",
      "{'\\nI’ve been asked by a few friends to develop a feature for a\\nWhatsApp chatbot of mine, that summarizes articles based on\\nURL inputs.': 41, 'So when a friend sends an article to a WhatsApp\\ngroup, the bot will reply with a summary of the given URL\\narticle.': 3}\n",
      "Word => summar\n",
      "Sentence => So when a friend sends an article to a WhatsApp\n",
      "group, the bot will reply with a summary of the given URL\n",
      "article.\n",
      "{'\\nI’ve been asked by a few friends to develop a feature for a\\nWhatsApp chatbot of mine, that summarizes articles based on\\nURL inputs.': 41, 'So when a friend sends an article to a WhatsApp\\ngroup, the bot will reply with a summary of the given URL\\narticle.': 5}\n",
      "Word => group\n",
      "Sentence => So when a friend sends an article to a WhatsApp\n",
      "group, the bot will reply with a summary of the given URL\n",
      "article.\n",
      "{'\\nI’ve been asked by a few friends to develop a feature for a\\nWhatsApp chatbot of mine, that summarizes articles based on\\nURL inputs.': 41, 'So when a friend sends an article to a WhatsApp\\ngroup, the bot will reply with a summary of the given URL\\narticle.': 7}\n",
      "Word => bot\n",
      "Sentence => So when a friend sends an article to a WhatsApp\n",
      "group, the bot will reply with a summary of the given URL\n",
      "article.\n",
      "{'\\nI’ve been asked by a few friends to develop a feature for a\\nWhatsApp chatbot of mine, that summarizes articles based on\\nURL inputs.': 41, 'So when a friend sends an article to a WhatsApp\\ngroup, the bot will reply with a summary of the given URL\\narticle.': 8}\n",
      "Word => send\n",
      "Sentence => So when a friend sends an article to a WhatsApp\n",
      "group, the bot will reply with a summary of the given URL\n",
      "article.\n",
      "{'\\nI’ve been asked by a few friends to develop a feature for a\\nWhatsApp chatbot of mine, that summarizes articles based on\\nURL inputs.': 41, 'So when a friend sends an article to a WhatsApp\\ngroup, the bot will reply with a summary of the given URL\\narticle.': 9}\n",
      "Word => articl\n",
      "Sentence => So when a friend sends an article to a WhatsApp\n",
      "group, the bot will reply with a summary of the given URL\n",
      "article.\n",
      "{'\\nI’ve been asked by a few friends to develop a feature for a\\nWhatsApp chatbot of mine, that summarizes articles based on\\nURL inputs.': 41, 'So when a friend sends an article to a WhatsApp\\ngroup, the bot will reply with a summary of the given URL\\narticle.': 13}\n",
      "Word => .\n",
      "Sentence => So when a friend sends an article to a WhatsApp\n",
      "group, the bot will reply with a summary of the given URL\n",
      "article.\n",
      "{'\\nI’ve been asked by a few friends to develop a feature for a\\nWhatsApp chatbot of mine, that summarizes articles based on\\nURL inputs.': 41, 'So when a friend sends an article to a WhatsApp\\ngroup, the bot will reply with a summary of the given URL\\narticle.': 20}\n",
      "Word => ,\n",
      "Sentence => So when a friend sends an article to a WhatsApp\n",
      "group, the bot will reply with a summary of the given URL\n",
      "article.\n",
      "{'\\nI’ve been asked by a few friends to develop a feature for a\\nWhatsApp chatbot of mine, that summarizes articles based on\\nURL inputs.': 41, 'So when a friend sends an article to a WhatsApp\\ngroup, the bot will reply with a summary of the given URL\\narticle.': 29}\n",
      "Word => user\n",
      "Sentence => I like this feature because from my personal\n",
      "research, 65% of group users don’t even click the shared URLs,\n",
      "but 97% of them will read a few lines of the articles summary.\n",
      "{'I like this feature because from my personal\\nresearch, 65% of group users don’t even click the shared URLs,\\nbut 97% of them will read a few lines of the articles summary.': 1, '\\nI’ve been asked by a few friends to develop a feature for a\\nWhatsApp chatbot of mine, that summarizes articles based on\\nURL inputs.': 41, 'So when a friend sends an article to a WhatsApp\\ngroup, the bot will reply with a summary of the given URL\\narticle.': 29}\n",
      "Word => %\n",
      "Sentence => I like this feature because from my personal\n",
      "research, 65% of group users don’t even click the shared URLs,\n",
      "but 97% of them will read a few lines of the articles summary.\n",
      "{'I like this feature because from my personal\\nresearch, 65% of group users don’t even click the shared URLs,\\nbut 97% of them will read a few lines of the articles summary.': 3, '\\nI’ve been asked by a few friends to develop a feature for a\\nWhatsApp chatbot of mine, that summarizes articles based on\\nURL inputs.': 41, 'So when a friend sends an article to a WhatsApp\\ngroup, the bot will reply with a summary of the given URL\\narticle.': 29}\n",
      "Word => summar\n",
      "Sentence => I like this feature because from my personal\n",
      "research, 65% of group users don’t even click the shared URLs,\n",
      "but 97% of them will read a few lines of the articles summary.\n",
      "{'I like this feature because from my personal\\nresearch, 65% of group users don’t even click the shared URLs,\\nbut 97% of them will read a few lines of the articles summary.': 5, '\\nI’ve been asked by a few friends to develop a feature for a\\nWhatsApp chatbot of mine, that summarizes articles based on\\nURL inputs.': 41, 'So when a friend sends an article to a WhatsApp\\ngroup, the bot will reply with a summary of the given URL\\narticle.': 29}\n",
      "Word => group\n",
      "Sentence => I like this feature because from my personal\n",
      "research, 65% of group users don’t even click the shared URLs,\n",
      "but 97% of them will read a few lines of the articles summary.\n",
      "{'I like this feature because from my personal\\nresearch, 65% of group users don’t even click the shared URLs,\\nbut 97% of them will read a few lines of the articles summary.': 7, '\\nI’ve been asked by a few friends to develop a feature for a\\nWhatsApp chatbot of mine, that summarizes articles based on\\nURL inputs.': 41, 'So when a friend sends an article to a WhatsApp\\ngroup, the bot will reply with a summary of the given URL\\narticle.': 29}\n",
      "Word => line\n",
      "Sentence => I like this feature because from my personal\n",
      "research, 65% of group users don’t even click the shared URLs,\n",
      "but 97% of them will read a few lines of the articles summary.\n",
      "{'I like this feature because from my personal\\nresearch, 65% of group users don’t even click the shared URLs,\\nbut 97% of them will read a few lines of the articles summary.': 8, '\\nI’ve been asked by a few friends to develop a feature for a\\nWhatsApp chatbot of mine, that summarizes articles based on\\nURL inputs.': 41, 'So when a friend sends an article to a WhatsApp\\ngroup, the bot will reply with a summary of the given URL\\narticle.': 29}\n",
      "Word => share\n",
      "Sentence => I like this feature because from my personal\n",
      "research, 65% of group users don’t even click the shared URLs,\n",
      "but 97% of them will read a few lines of the articles summary.\n",
      "{'I like this feature because from my personal\\nresearch, 65% of group users don’t even click the shared URLs,\\nbut 97% of them will read a few lines of the articles summary.': 9, '\\nI’ve been asked by a few friends to develop a feature for a\\nWhatsApp chatbot of mine, that summarizes articles based on\\nURL inputs.': 41, 'So when a friend sends an article to a WhatsApp\\ngroup, the bot will reply with a summary of the given URL\\narticle.': 29}\n",
      "Word => 97\n",
      "Sentence => I like this feature because from my personal\n",
      "research, 65% of group users don’t even click the shared URLs,\n",
      "but 97% of them will read a few lines of the articles summary.\n",
      "{'I like this feature because from my personal\\nresearch, 65% of group users don’t even click the shared URLs,\\nbut 97% of them will read a few lines of the articles summary.': 10, '\\nI’ve been asked by a few friends to develop a feature for a\\nWhatsApp chatbot of mine, that summarizes articles based on\\nURL inputs.': 41, 'So when a friend sends an article to a WhatsApp\\ngroup, the bot will reply with a summary of the given URL\\narticle.': 29}\n",
      "Word => ’\n",
      "Sentence => I like this feature because from my personal\n",
      "research, 65% of group users don’t even click the shared URLs,\n",
      "but 97% of them will read a few lines of the articles summary.\n",
      "{'I like this feature because from my personal\\nresearch, 65% of group users don’t even click the shared URLs,\\nbut 97% of them will read a few lines of the articles summary.': 14, '\\nI’ve been asked by a few friends to develop a feature for a\\nWhatsApp chatbot of mine, that summarizes articles based on\\nURL inputs.': 41, 'So when a friend sends an article to a WhatsApp\\ngroup, the bot will reply with a summary of the given URL\\narticle.': 29}\n",
      "Word => click\n",
      "Sentence => I like this feature because from my personal\n",
      "research, 65% of group users don’t even click the shared URLs,\n",
      "but 97% of them will read a few lines of the articles summary.\n",
      "{'I like this feature because from my personal\\nresearch, 65% of group users don’t even click the shared URLs,\\nbut 97% of them will read a few lines of the articles summary.': 15, '\\nI’ve been asked by a few friends to develop a feature for a\\nWhatsApp chatbot of mine, that summarizes articles based on\\nURL inputs.': 41, 'So when a friend sends an article to a WhatsApp\\ngroup, the bot will reply with a summary of the given URL\\narticle.': 29}\n",
      "Word => like\n",
      "Sentence => I like this feature because from my personal\n",
      "research, 65% of group users don’t even click the shared URLs,\n",
      "but 97% of them will read a few lines of the articles summary.\n",
      "{'I like this feature because from my personal\\nresearch, 65% of group users don’t even click the shared URLs,\\nbut 97% of them will read a few lines of the articles summary.': 16, '\\nI’ve been asked by a few friends to develop a feature for a\\nWhatsApp chatbot of mine, that summarizes articles based on\\nURL inputs.': 41, 'So when a friend sends an article to a WhatsApp\\ngroup, the bot will reply with a summary of the given URL\\narticle.': 29}\n",
      "Word => person\n",
      "Sentence => I like this feature because from my personal\n",
      "research, 65% of group users don’t even click the shared URLs,\n",
      "but 97% of them will read a few lines of the articles summary.\n",
      "{'I like this feature because from my personal\\nresearch, 65% of group users don’t even click the shared URLs,\\nbut 97% of them will read a few lines of the articles summary.': 17, '\\nI’ve been asked by a few friends to develop a feature for a\\nWhatsApp chatbot of mine, that summarizes articles based on\\nURL inputs.': 41, 'So when a friend sends an article to a WhatsApp\\ngroup, the bot will reply with a summary of the given URL\\narticle.': 29}\n",
      "Word => even\n",
      "Sentence => I like this feature because from my personal\n",
      "research, 65% of group users don’t even click the shared URLs,\n",
      "but 97% of them will read a few lines of the articles summary.\n",
      "{'I like this feature because from my personal\\nresearch, 65% of group users don’t even click the shared URLs,\\nbut 97% of them will read a few lines of the articles summary.': 18, '\\nI’ve been asked by a few friends to develop a feature for a\\nWhatsApp chatbot of mine, that summarizes articles based on\\nURL inputs.': 41, 'So when a friend sends an article to a WhatsApp\\ngroup, the bot will reply with a summary of the given URL\\narticle.': 29}\n",
      "Word => read\n",
      "Sentence => I like this feature because from my personal\n",
      "research, 65% of group users don’t even click the shared URLs,\n",
      "but 97% of them will read a few lines of the articles summary.\n",
      "{'I like this feature because from my personal\\nresearch, 65% of group users don’t even click the shared URLs,\\nbut 97% of them will read a few lines of the articles summary.': 19, '\\nI’ve been asked by a few friends to develop a feature for a\\nWhatsApp chatbot of mine, that summarizes articles based on\\nURL inputs.': 41, 'So when a friend sends an article to a WhatsApp\\ngroup, the bot will reply with a summary of the given URL\\narticle.': 29}\n",
      "Word => articl\n",
      "Sentence => I like this feature because from my personal\n",
      "research, 65% of group users don’t even click the shared URLs,\n",
      "but 97% of them will read a few lines of the articles summary.\n",
      "{'I like this feature because from my personal\\nresearch, 65% of group users don’t even click the shared URLs,\\nbut 97% of them will read a few lines of the articles summary.': 23, '\\nI’ve been asked by a few friends to develop a feature for a\\nWhatsApp chatbot of mine, that summarizes articles based on\\nURL inputs.': 41, 'So when a friend sends an article to a WhatsApp\\ngroup, the bot will reply with a summary of the given URL\\narticle.': 29}\n",
      "Word => .\n",
      "Sentence => I like this feature because from my personal\n",
      "research, 65% of group users don’t even click the shared URLs,\n",
      "but 97% of them will read a few lines of the articles summary.\n",
      "{'I like this feature because from my personal\\nresearch, 65% of group users don’t even click the shared URLs,\\nbut 97% of them will read a few lines of the articles summary.': 30, '\\nI’ve been asked by a few friends to develop a feature for a\\nWhatsApp chatbot of mine, that summarizes articles based on\\nURL inputs.': 41, 'So when a friend sends an article to a WhatsApp\\ngroup, the bot will reply with a summary of the given URL\\narticle.': 29}\n",
      "Word => use\n",
      "Sentence => I like this feature because from my personal\n",
      "research, 65% of group users don’t even click the shared URLs,\n",
      "but 97% of them will read a few lines of the articles summary.\n",
      "{'I like this feature because from my personal\\nresearch, 65% of group users don’t even click the shared URLs,\\nbut 97% of them will read a few lines of the articles summary.': 31, '\\nI’ve been asked by a few friends to develop a feature for a\\nWhatsApp chatbot of mine, that summarizes articles based on\\nURL inputs.': 41, 'So when a friend sends an article to a WhatsApp\\ngroup, the bot will reply with a summary of the given URL\\narticle.': 29}\n",
      "Word => ,\n",
      "Sentence => I like this feature because from my personal\n",
      "research, 65% of group users don’t even click the shared URLs,\n",
      "but 97% of them will read a few lines of the articles summary.\n",
      "{'I like this feature because from my personal\\nresearch, 65% of group users don’t even click the shared URLs,\\nbut 97% of them will read a few lines of the articles summary.': 40, '\\nI’ve been asked by a few friends to develop a feature for a\\nWhatsApp chatbot of mine, that summarizes articles based on\\nURL inputs.': 41, 'So when a friend sends an article to a WhatsApp\\ngroup, the bot will reply with a summary of the given URL\\narticle.': 29}\n",
      "Word => research\n",
      "Sentence => I like this feature because from my personal\n",
      "research, 65% of group users don’t even click the shared URLs,\n",
      "but 97% of them will read a few lines of the articles summary.\n",
      "{'I like this feature because from my personal\\nresearch, 65% of group users don’t even click the shared URLs,\\nbut 97% of them will read a few lines of the articles summary.': 41, '\\nI’ve been asked by a few friends to develop a feature for a\\nWhatsApp chatbot of mine, that summarizes articles based on\\nURL inputs.': 41, 'So when a friend sends an article to a WhatsApp\\ngroup, the bot will reply with a summary of the given URL\\narticle.': 29}\n",
      "Word => featur\n",
      "Sentence => I like this feature because from my personal\n",
      "research, 65% of group users don’t even click the shared URLs,\n",
      "but 97% of them will read a few lines of the articles summary.\n",
      "{'I like this feature because from my personal\\nresearch, 65% of group users don’t even click the shared URLs,\\nbut 97% of them will read a few lines of the articles summary.': 43, '\\nI’ve been asked by a few friends to develop a feature for a\\nWhatsApp chatbot of mine, that summarizes articles based on\\nURL inputs.': 41, 'So when a friend sends an article to a WhatsApp\\ngroup, the bot will reply with a summary of the given URL\\narticle.': 29}\n",
      "Word => 65\n",
      "Sentence => I like this feature because from my personal\n",
      "research, 65% of group users don’t even click the shared URLs,\n",
      "but 97% of them will read a few lines of the articles summary.\n",
      "{'I like this feature because from my personal\\nresearch, 65% of group users don’t even click the shared URLs,\\nbut 97% of them will read a few lines of the articles summary.': 44, '\\nI’ve been asked by a few friends to develop a feature for a\\nWhatsApp chatbot of mine, that summarizes articles based on\\nURL inputs.': 41, 'So when a friend sends an article to a WhatsApp\\ngroup, the bot will reply with a summary of the given URL\\narticle.': 29}\n",
      "Word => stack\n",
      "Sentence => As part of being a Fullstack developer, it is important to\n",
      "know how to choose the right stack for each product you\n",
      "develop, depending on the requirements and limitations.\n",
      "{'As part of being a Fullstack developer, it is important to\\nknow how to choose the right stack for each product you\\ndevelop, depending on the requirements and limitations.': 1, 'I like this feature because from my personal\\nresearch, 65% of group users don’t even click the shared URLs,\\nbut 97% of them will read a few lines of the articles summary.': 44, '\\nI’ve been asked by a few friends to develop a feature for a\\nWhatsApp chatbot of mine, that summarizes articles based on\\nURL inputs.': 41, 'So when a friend sends an article to a WhatsApp\\ngroup, the bot will reply with a summary of the given URL\\narticle.': 29}\n",
      "Word => know\n",
      "Sentence => As part of being a Fullstack developer, it is important to\n",
      "know how to choose the right stack for each product you\n",
      "develop, depending on the requirements and limitations.\n",
      "{'As part of being a Fullstack developer, it is important to\\nknow how to choose the right stack for each product you\\ndevelop, depending on the requirements and limitations.': 2, 'I like this feature because from my personal\\nresearch, 65% of group users don’t even click the shared URLs,\\nbut 97% of them will read a few lines of the articles summary.': 44, '\\nI’ve been asked by a few friends to develop a feature for a\\nWhatsApp chatbot of mine, that summarizes articles based on\\nURL inputs.': 41, 'So when a friend sends an article to a WhatsApp\\ngroup, the bot will reply with a summary of the given URL\\narticle.': 29}\n",
      "Word => requir\n",
      "Sentence => As part of being a Fullstack developer, it is important to\n",
      "know how to choose the right stack for each product you\n",
      "develop, depending on the requirements and limitations.\n",
      "{'As part of being a Fullstack developer, it is important to\\nknow how to choose the right stack for each product you\\ndevelop, depending on the requirements and limitations.': 3, 'I like this feature because from my personal\\nresearch, 65% of group users don’t even click the shared URLs,\\nbut 97% of them will read a few lines of the articles summary.': 44, '\\nI’ve been asked by a few friends to develop a feature for a\\nWhatsApp chatbot of mine, that summarizes articles based on\\nURL inputs.': 41, 'So when a friend sends an article to a WhatsApp\\ngroup, the bot will reply with a summary of the given URL\\narticle.': 29}\n",
      "Word => import\n",
      "Sentence => As part of being a Fullstack developer, it is important to\n",
      "know how to choose the right stack for each product you\n",
      "develop, depending on the requirements and limitations.\n",
      "{'As part of being a Fullstack developer, it is important to\\nknow how to choose the right stack for each product you\\ndevelop, depending on the requirements and limitations.': 4, 'I like this feature because from my personal\\nresearch, 65% of group users don’t even click the shared URLs,\\nbut 97% of them will read a few lines of the articles summary.': 44, '\\nI’ve been asked by a few friends to develop a feature for a\\nWhatsApp chatbot of mine, that summarizes articles based on\\nURL inputs.': 41, 'So when a friend sends an article to a WhatsApp\\ngroup, the bot will reply with a summary of the given URL\\narticle.': 29}\n",
      "Word => depend\n",
      "Sentence => As part of being a Fullstack developer, it is important to\n",
      "know how to choose the right stack for each product you\n",
      "develop, depending on the requirements and limitations.\n",
      "{'As part of being a Fullstack developer, it is important to\\nknow how to choose the right stack for each product you\\ndevelop, depending on the requirements and limitations.': 5, 'I like this feature because from my personal\\nresearch, 65% of group users don’t even click the shared URLs,\\nbut 97% of them will read a few lines of the articles summary.': 44, '\\nI’ve been asked by a few friends to develop a feature for a\\nWhatsApp chatbot of mine, that summarizes articles based on\\nURL inputs.': 41, 'So when a friend sends an article to a WhatsApp\\ngroup, the bot will reply with a summary of the given URL\\narticle.': 29}\n",
      "Word => product\n",
      "Sentence => As part of being a Fullstack developer, it is important to\n",
      "know how to choose the right stack for each product you\n",
      "develop, depending on the requirements and limitations.\n",
      "{'As part of being a Fullstack developer, it is important to\\nknow how to choose the right stack for each product you\\ndevelop, depending on the requirements and limitations.': 6, 'I like this feature because from my personal\\nresearch, 65% of group users don’t even click the shared URLs,\\nbut 97% of them will read a few lines of the articles summary.': 44, '\\nI’ve been asked by a few friends to develop a feature for a\\nWhatsApp chatbot of mine, that summarizes articles based on\\nURL inputs.': 41, 'So when a friend sends an article to a WhatsApp\\ngroup, the bot will reply with a summary of the given URL\\narticle.': 29}\n",
      "Word => part\n",
      "Sentence => As part of being a Fullstack developer, it is important to\n",
      "know how to choose the right stack for each product you\n",
      "develop, depending on the requirements and limitations.\n",
      "{'As part of being a Fullstack developer, it is important to\\nknow how to choose the right stack for each product you\\ndevelop, depending on the requirements and limitations.': 7, 'I like this feature because from my personal\\nresearch, 65% of group users don’t even click the shared URLs,\\nbut 97% of them will read a few lines of the articles summary.': 44, '\\nI’ve been asked by a few friends to develop a feature for a\\nWhatsApp chatbot of mine, that summarizes articles based on\\nURL inputs.': 41, 'So when a friend sends an article to a WhatsApp\\ngroup, the bot will reply with a summary of the given URL\\narticle.': 29}\n",
      "Word => .\n",
      "Sentence => As part of being a Fullstack developer, it is important to\n",
      "know how to choose the right stack for each product you\n",
      "develop, depending on the requirements and limitations.\n",
      "{'As part of being a Fullstack developer, it is important to\\nknow how to choose the right stack for each product you\\ndevelop, depending on the requirements and limitations.': 14, 'I like this feature because from my personal\\nresearch, 65% of group users don’t even click the shared URLs,\\nbut 97% of them will read a few lines of the articles summary.': 44, '\\nI’ve been asked by a few friends to develop a feature for a\\nWhatsApp chatbot of mine, that summarizes articles based on\\nURL inputs.': 41, 'So when a friend sends an article to a WhatsApp\\ngroup, the bot will reply with a summary of the given URL\\narticle.': 29}\n",
      "Word => ,\n",
      "Sentence => As part of being a Fullstack developer, it is important to\n",
      "know how to choose the right stack for each product you\n",
      "develop, depending on the requirements and limitations.\n",
      "{'As part of being a Fullstack developer, it is important to\\nknow how to choose the right stack for each product you\\ndevelop, depending on the requirements and limitations.': 23, 'I like this feature because from my personal\\nresearch, 65% of group users don’t even click the shared URLs,\\nbut 97% of them will read a few lines of the articles summary.': 44, '\\nI’ve been asked by a few friends to develop a feature for a\\nWhatsApp chatbot of mine, that summarizes articles based on\\nURL inputs.': 41, 'So when a friend sends an article to a WhatsApp\\ngroup, the bot will reply with a summary of the given URL\\narticle.': 29}\n",
      "Word => right\n",
      "Sentence => As part of being a Fullstack developer, it is important to\n",
      "know how to choose the right stack for each product you\n",
      "develop, depending on the requirements and limitations.\n",
      "{'As part of being a Fullstack developer, it is important to\\nknow how to choose the right stack for each product you\\ndevelop, depending on the requirements and limitations.': 24, 'I like this feature because from my personal\\nresearch, 65% of group users don’t even click the shared URLs,\\nbut 97% of them will read a few lines of the articles summary.': 44, '\\nI’ve been asked by a few friends to develop a feature for a\\nWhatsApp chatbot of mine, that summarizes articles based on\\nURL inputs.': 41, 'So when a friend sends an article to a WhatsApp\\ngroup, the bot will reply with a summary of the given URL\\narticle.': 29}\n",
      "Word => limit\n",
      "Sentence => As part of being a Fullstack developer, it is important to\n",
      "know how to choose the right stack for each product you\n",
      "develop, depending on the requirements and limitations.\n",
      "{'As part of being a Fullstack developer, it is important to\\nknow how to choose the right stack for each product you\\ndevelop, depending on the requirements and limitations.': 25, 'I like this feature because from my personal\\nresearch, 65% of group users don’t even click the shared URLs,\\nbut 97% of them will read a few lines of the articles summary.': 44, '\\nI’ve been asked by a few friends to develop a feature for a\\nWhatsApp chatbot of mine, that summarizes articles based on\\nURL inputs.': 41, 'So when a friend sends an article to a WhatsApp\\ngroup, the bot will reply with a summary of the given URL\\narticle.': 29}\n",
      "Word => choos\n",
      "Sentence => As part of being a Fullstack developer, it is important to\n",
      "know how to choose the right stack for each product you\n",
      "develop, depending on the requirements and limitations.\n",
      "{'As part of being a Fullstack developer, it is important to\\nknow how to choose the right stack for each product you\\ndevelop, depending on the requirements and limitations.': 26, 'I like this feature because from my personal\\nresearch, 65% of group users don’t even click the shared URLs,\\nbut 97% of them will read a few lines of the articles summary.': 44, '\\nI’ve been asked by a few friends to develop a feature for a\\nWhatsApp chatbot of mine, that summarizes articles based on\\nURL inputs.': 41, 'So when a friend sends an article to a WhatsApp\\ngroup, the bot will reply with a summary of the given URL\\narticle.': 29}\n",
      "Word => develop\n",
      "Sentence => As part of being a Fullstack developer, it is important to\n",
      "know how to choose the right stack for each product you\n",
      "develop, depending on the requirements and limitations.\n",
      "{'As part of being a Fullstack developer, it is important to\\nknow how to choose the right stack for each product you\\ndevelop, depending on the requirements and limitations.': 29, 'I like this feature because from my personal\\nresearch, 65% of group users don’t even click the shared URLs,\\nbut 97% of them will read a few lines of the articles summary.': 44, '\\nI’ve been asked by a few friends to develop a feature for a\\nWhatsApp chatbot of mine, that summarizes articles based on\\nURL inputs.': 41, 'So when a friend sends an article to a WhatsApp\\ngroup, the bot will reply with a summary of the given URL\\narticle.': 29}\n",
      "Word => web\n",
      "Sentence => For web crawling, I love using Python.\n",
      "{'As part of being a Fullstack developer, it is important to\\nknow how to choose the right stack for each product you\\ndevelop, depending on the requirements and limitations.': 29, 'I like this feature because from my personal\\nresearch, 65% of group users don’t even click the shared URLs,\\nbut 97% of them will read a few lines of the articles summary.': 44, '\\nI’ve been asked by a few friends to develop a feature for a\\nWhatsApp chatbot of mine, that summarizes articles based on\\nURL inputs.': 41, 'So when a friend sends an article to a WhatsApp\\ngroup, the bot will reply with a summary of the given URL\\narticle.': 29, 'For web crawling, I love using Python.': 2}\n",
      "Word => love\n",
      "Sentence => For web crawling, I love using Python.\n",
      "{'As part of being a Fullstack developer, it is important to\\nknow how to choose the right stack for each product you\\ndevelop, depending on the requirements and limitations.': 29, 'I like this feature because from my personal\\nresearch, 65% of group users don’t even click the shared URLs,\\nbut 97% of them will read a few lines of the articles summary.': 44, '\\nI’ve been asked by a few friends to develop a feature for a\\nWhatsApp chatbot of mine, that summarizes articles based on\\nURL inputs.': 41, 'So when a friend sends an article to a WhatsApp\\ngroup, the bot will reply with a summary of the given URL\\narticle.': 29, 'For web crawling, I love using Python.': 3}\n",
      "Word => crawl\n",
      "Sentence => For web crawling, I love using Python.\n",
      "{'As part of being a Fullstack developer, it is important to\\nknow how to choose the right stack for each product you\\ndevelop, depending on the requirements and limitations.': 29, 'I like this feature because from my personal\\nresearch, 65% of group users don’t even click the shared URLs,\\nbut 97% of them will read a few lines of the articles summary.': 44, '\\nI’ve been asked by a few friends to develop a feature for a\\nWhatsApp chatbot of mine, that summarizes articles based on\\nURL inputs.': 41, 'So when a friend sends an article to a WhatsApp\\ngroup, the bot will reply with a summary of the given URL\\narticle.': 29, 'For web crawling, I love using Python.': 5}\n",
      "Word => .\n",
      "Sentence => For web crawling, I love using Python.\n",
      "{'As part of being a Fullstack developer, it is important to\\nknow how to choose the right stack for each product you\\ndevelop, depending on the requirements and limitations.': 29, 'I like this feature because from my personal\\nresearch, 65% of group users don’t even click the shared URLs,\\nbut 97% of them will read a few lines of the articles summary.': 44, '\\nI’ve been asked by a few friends to develop a feature for a\\nWhatsApp chatbot of mine, that summarizes articles based on\\nURL inputs.': 41, 'So when a friend sends an article to a WhatsApp\\ngroup, the bot will reply with a summary of the given URL\\narticle.': 29, 'For web crawling, I love using Python.': 12}\n",
      "Word => ,\n",
      "Sentence => For web crawling, I love using Python.\n",
      "{'As part of being a Fullstack developer, it is important to\\nknow how to choose the right stack for each product you\\ndevelop, depending on the requirements and limitations.': 29, 'I like this feature because from my personal\\nresearch, 65% of group users don’t even click the shared URLs,\\nbut 97% of them will read a few lines of the articles summary.': 44, '\\nI’ve been asked by a few friends to develop a feature for a\\nWhatsApp chatbot of mine, that summarizes articles based on\\nURL inputs.': 41, 'So when a friend sends an article to a WhatsApp\\ngroup, the bot will reply with a summary of the given URL\\narticle.': 29, 'For web crawling, I love using Python.': 21}\n",
      "Word => web\n",
      "Sentence => The Python community\n",
      "is filled with efficient, easy to implement open source\n",
      "libraries both for web crawling and text summarization.\n",
      "{'As part of being a Fullstack developer, it is important to\\nknow how to choose the right stack for each product you\\ndevelop, depending on the requirements and limitations.': 29, '\\nI’ve been asked by a few friends to develop a feature for a\\nWhatsApp chatbot of mine, that summarizes articles based on\\nURL inputs.': 41, 'For web crawling, I love using Python.': 21, 'The Python community\\nis filled with efficient, easy to implement open source\\nlibraries both for web crawling and text summarization.': 2, 'I like this feature because from my personal\\nresearch, 65% of group users don’t even click the shared URLs,\\nbut 97% of them will read a few lines of the articles summary.': 44, 'So when a friend sends an article to a WhatsApp\\ngroup, the bot will reply with a summary of the given URL\\narticle.': 29}\n",
      "Word => commun\n",
      "Sentence => The Python community\n",
      "is filled with efficient, easy to implement open source\n",
      "libraries both for web crawling and text summarization.\n",
      "{'As part of being a Fullstack developer, it is important to\\nknow how to choose the right stack for each product you\\ndevelop, depending on the requirements and limitations.': 29, '\\nI’ve been asked by a few friends to develop a feature for a\\nWhatsApp chatbot of mine, that summarizes articles based on\\nURL inputs.': 41, 'For web crawling, I love using Python.': 21, 'The Python community\\nis filled with efficient, easy to implement open source\\nlibraries both for web crawling and text summarization.': 3, 'I like this feature because from my personal\\nresearch, 65% of group users don’t even click the shared URLs,\\nbut 97% of them will read a few lines of the articles summary.': 44, 'So when a friend sends an article to a WhatsApp\\ngroup, the bot will reply with a summary of the given URL\\narticle.': 29}\n",
      "Word => summar\n",
      "Sentence => The Python community\n",
      "is filled with efficient, easy to implement open source\n",
      "libraries both for web crawling and text summarization.\n",
      "{'As part of being a Fullstack developer, it is important to\\nknow how to choose the right stack for each product you\\ndevelop, depending on the requirements and limitations.': 29, '\\nI’ve been asked by a few friends to develop a feature for a\\nWhatsApp chatbot of mine, that summarizes articles based on\\nURL inputs.': 41, 'For web crawling, I love using Python.': 21, 'The Python community\\nis filled with efficient, easy to implement open source\\nlibraries both for web crawling and text summarization.': 5, 'I like this feature because from my personal\\nresearch, 65% of group users don’t even click the shared URLs,\\nbut 97% of them will read a few lines of the articles summary.': 44, 'So when a friend sends an article to a WhatsApp\\ngroup, the bot will reply with a summary of the given URL\\narticle.': 29}\n",
      "Word => implement\n",
      "Sentence => The Python community\n",
      "is filled with efficient, easy to implement open source\n",
      "libraries both for web crawling and text summarization.\n",
      "{'As part of being a Fullstack developer, it is important to\\nknow how to choose the right stack for each product you\\ndevelop, depending on the requirements and limitations.': 29, '\\nI’ve been asked by a few friends to develop a feature for a\\nWhatsApp chatbot of mine, that summarizes articles based on\\nURL inputs.': 41, 'For web crawling, I love using Python.': 21, 'The Python community\\nis filled with efficient, easy to implement open source\\nlibraries both for web crawling and text summarization.': 7, 'I like this feature because from my personal\\nresearch, 65% of group users don’t even click the shared URLs,\\nbut 97% of them will read a few lines of the articles summary.': 44, 'So when a friend sends an article to a WhatsApp\\ngroup, the bot will reply with a summary of the given URL\\narticle.': 29}\n",
      "Word => bot\n",
      "Sentence => The Python community\n",
      "is filled with efficient, easy to implement open source\n",
      "libraries both for web crawling and text summarization.\n",
      "{'As part of being a Fullstack developer, it is important to\\nknow how to choose the right stack for each product you\\ndevelop, depending on the requirements and limitations.': 29, '\\nI’ve been asked by a few friends to develop a feature for a\\nWhatsApp chatbot of mine, that summarizes articles based on\\nURL inputs.': 41, 'For web crawling, I love using Python.': 21, 'The Python community\\nis filled with efficient, easy to implement open source\\nlibraries both for web crawling and text summarization.': 8, 'I like this feature because from my personal\\nresearch, 65% of group users don’t even click the shared URLs,\\nbut 97% of them will read a few lines of the articles summary.': 44, 'So when a friend sends an article to a WhatsApp\\ngroup, the bot will reply with a summary of the given URL\\narticle.': 29}\n",
      "Word => librari\n",
      "Sentence => The Python community\n",
      "is filled with efficient, easy to implement open source\n",
      "libraries both for web crawling and text summarization.\n",
      "{'As part of being a Fullstack developer, it is important to\\nknow how to choose the right stack for each product you\\ndevelop, depending on the requirements and limitations.': 29, '\\nI’ve been asked by a few friends to develop a feature for a\\nWhatsApp chatbot of mine, that summarizes articles based on\\nURL inputs.': 41, 'For web crawling, I love using Python.': 21, 'The Python community\\nis filled with efficient, easy to implement open source\\nlibraries both for web crawling and text summarization.': 9, 'I like this feature because from my personal\\nresearch, 65% of group users don’t even click the shared URLs,\\nbut 97% of them will read a few lines of the articles summary.': 44, 'So when a friend sends an article to a WhatsApp\\ngroup, the bot will reply with a summary of the given URL\\narticle.': 29}\n",
      "Word => crawl\n",
      "Sentence => The Python community\n",
      "is filled with efficient, easy to implement open source\n",
      "libraries both for web crawling and text summarization.\n",
      "{'As part of being a Fullstack developer, it is important to\\nknow how to choose the right stack for each product you\\ndevelop, depending on the requirements and limitations.': 29, '\\nI’ve been asked by a few friends to develop a feature for a\\nWhatsApp chatbot of mine, that summarizes articles based on\\nURL inputs.': 41, 'For web crawling, I love using Python.': 21, 'The Python community\\nis filled with efficient, easy to implement open source\\nlibraries both for web crawling and text summarization.': 11, 'I like this feature because from my personal\\nresearch, 65% of group users don’t even click the shared URLs,\\nbut 97% of them will read a few lines of the articles summary.': 44, 'So when a friend sends an article to a WhatsApp\\ngroup, the bot will reply with a summary of the given URL\\narticle.': 29}\n",
      "Word => .\n",
      "Sentence => The Python community\n",
      "is filled with efficient, easy to implement open source\n",
      "libraries both for web crawling and text summarization.\n",
      "{'As part of being a Fullstack developer, it is important to\\nknow how to choose the right stack for each product you\\ndevelop, depending on the requirements and limitations.': 29, '\\nI’ve been asked by a few friends to develop a feature for a\\nWhatsApp chatbot of mine, that summarizes articles based on\\nURL inputs.': 41, 'For web crawling, I love using Python.': 21, 'The Python community\\nis filled with efficient, easy to implement open source\\nlibraries both for web crawling and text summarization.': 18, 'I like this feature because from my personal\\nresearch, 65% of group users don’t even click the shared URLs,\\nbut 97% of them will read a few lines of the articles summary.': 44, 'So when a friend sends an article to a WhatsApp\\ngroup, the bot will reply with a summary of the given URL\\narticle.': 29}\n",
      "Word => ,\n",
      "Sentence => The Python community\n",
      "is filled with efficient, easy to implement open source\n",
      "libraries both for web crawling and text summarization.\n",
      "{'As part of being a Fullstack developer, it is important to\\nknow how to choose the right stack for each product you\\ndevelop, depending on the requirements and limitations.': 29, '\\nI’ve been asked by a few friends to develop a feature for a\\nWhatsApp chatbot of mine, that summarizes articles based on\\nURL inputs.': 41, 'For web crawling, I love using Python.': 21, 'The Python community\\nis filled with efficient, easy to implement open source\\nlibraries both for web crawling and text summarization.': 27, 'I like this feature because from my personal\\nresearch, 65% of group users don’t even click the shared URLs,\\nbut 97% of them will read a few lines of the articles summary.': 44, 'So when a friend sends an article to a WhatsApp\\ngroup, the bot will reply with a summary of the given URL\\narticle.': 29}\n",
      "Word => open\n",
      "Sentence => The Python community\n",
      "is filled with efficient, easy to implement open source\n",
      "libraries both for web crawling and text summarization.\n",
      "{'As part of being a Fullstack developer, it is important to\\nknow how to choose the right stack for each product you\\ndevelop, depending on the requirements and limitations.': 29, '\\nI’ve been asked by a few friends to develop a feature for a\\nWhatsApp chatbot of mine, that summarizes articles based on\\nURL inputs.': 41, 'For web crawling, I love using Python.': 21, 'The Python community\\nis filled with efficient, easy to implement open source\\nlibraries both for web crawling and text summarization.': 28, 'I like this feature because from my personal\\nresearch, 65% of group users don’t even click the shared URLs,\\nbut 97% of them will read a few lines of the articles summary.': 44, 'So when a friend sends an article to a WhatsApp\\ngroup, the bot will reply with a summary of the given URL\\narticle.': 29}\n",
      "Word => summari\n",
      "Sentence => The Python community\n",
      "is filled with efficient, easy to implement open source\n",
      "libraries both for web crawling and text summarization.\n",
      "{'As part of being a Fullstack developer, it is important to\\nknow how to choose the right stack for each product you\\ndevelop, depending on the requirements and limitations.': 29, '\\nI’ve been asked by a few friends to develop a feature for a\\nWhatsApp chatbot of mine, that summarizes articles based on\\nURL inputs.': 41, 'For web crawling, I love using Python.': 21, 'The Python community\\nis filled with efficient, easy to implement open source\\nlibraries both for web crawling and text summarization.': 30, 'I like this feature because from my personal\\nresearch, 65% of group users don’t even click the shared URLs,\\nbut 97% of them will read a few lines of the articles summary.': 44, 'So when a friend sends an article to a WhatsApp\\ngroup, the bot will reply with a summary of the given URL\\narticle.': 29}\n",
      "Word => text\n",
      "Sentence => The Python community\n",
      "is filled with efficient, easy to implement open source\n",
      "libraries both for web crawling and text summarization.\n",
      "{'As part of being a Fullstack developer, it is important to\\nknow how to choose the right stack for each product you\\ndevelop, depending on the requirements and limitations.': 29, '\\nI’ve been asked by a few friends to develop a feature for a\\nWhatsApp chatbot of mine, that summarizes articles based on\\nURL inputs.': 41, 'For web crawling, I love using Python.': 21, 'The Python community\\nis filled with efficient, easy to implement open source\\nlibraries both for web crawling and text summarization.': 31, 'I like this feature because from my personal\\nresearch, 65% of group users don’t even click the shared URLs,\\nbut 97% of them will read a few lines of the articles summary.': 44, 'So when a friend sends an article to a WhatsApp\\ngroup, the bot will reply with a summary of the given URL\\narticle.': 29}\n",
      "Word => fill\n",
      "Sentence => The Python community\n",
      "is filled with efficient, easy to implement open source\n",
      "libraries both for web crawling and text summarization.\n",
      "{'As part of being a Fullstack developer, it is important to\\nknow how to choose the right stack for each product you\\ndevelop, depending on the requirements and limitations.': 29, '\\nI’ve been asked by a few friends to develop a feature for a\\nWhatsApp chatbot of mine, that summarizes articles based on\\nURL inputs.': 41, 'For web crawling, I love using Python.': 21, 'The Python community\\nis filled with efficient, easy to implement open source\\nlibraries both for web crawling and text summarization.': 32, 'I like this feature because from my personal\\nresearch, 65% of group users don’t even click the shared URLs,\\nbut 97% of them will read a few lines of the articles summary.': 44, 'So when a friend sends an article to a WhatsApp\\ngroup, the bot will reply with a summary of the given URL\\narticle.': 29}\n",
      "Word => sourc\n",
      "Sentence => The Python community\n",
      "is filled with efficient, easy to implement open source\n",
      "libraries both for web crawling and text summarization.\n",
      "{'As part of being a Fullstack developer, it is important to\\nknow how to choose the right stack for each product you\\ndevelop, depending on the requirements and limitations.': 29, '\\nI’ve been asked by a few friends to develop a feature for a\\nWhatsApp chatbot of mine, that summarizes articles based on\\nURL inputs.': 41, 'For web crawling, I love using Python.': 21, 'The Python community\\nis filled with efficient, easy to implement open source\\nlibraries both for web crawling and text summarization.': 33, 'I like this feature because from my personal\\nresearch, 65% of group users don’t even click the shared URLs,\\nbut 97% of them will read a few lines of the articles summary.': 44, 'So when a friend sends an article to a WhatsApp\\ngroup, the bot will reply with a summary of the given URL\\narticle.': 29}\n",
      "Word => effici\n",
      "Sentence => The Python community\n",
      "is filled with efficient, easy to implement open source\n",
      "libraries both for web crawling and text summarization.\n",
      "{'As part of being a Fullstack developer, it is important to\\nknow how to choose the right stack for each product you\\ndevelop, depending on the requirements and limitations.': 29, '\\nI’ve been asked by a few friends to develop a feature for a\\nWhatsApp chatbot of mine, that summarizes articles based on\\nURL inputs.': 41, 'For web crawling, I love using Python.': 21, 'The Python community\\nis filled with efficient, easy to implement open source\\nlibraries both for web crawling and text summarization.': 34, 'I like this feature because from my personal\\nresearch, 65% of group users don’t even click the shared URLs,\\nbut 97% of them will read a few lines of the articles summary.': 44, 'So when a friend sends an article to a WhatsApp\\ngroup, the bot will reply with a summary of the given URL\\narticle.': 29}\n",
      "Word => task\n",
      "Sentence => Once you’re done with this tutorial, you won’t believe how\n",
      "simple it is to implement the task.\n",
      "{'As part of being a Fullstack developer, it is important to\\nknow how to choose the right stack for each product you\\ndevelop, depending on the requirements and limitations.': 29, '\\nI’ve been asked by a few friends to develop a feature for a\\nWhatsApp chatbot of mine, that summarizes articles based on\\nURL inputs.': 41, 'For web crawling, I love using Python.': 21, 'The Python community\\nis filled with efficient, easy to implement open source\\nlibraries both for web crawling and text summarization.': 34, 'I like this feature because from my personal\\nresearch, 65% of group users don’t even click the shared URLs,\\nbut 97% of them will read a few lines of the articles summary.': 44, 'So when a friend sends an article to a WhatsApp\\ngroup, the bot will reply with a summary of the given URL\\narticle.': 29, 'Once you’re done with this tutorial, you won’t believe how\\nsimple it is to implement the task.': 1}\n",
      "Word => simpl\n",
      "Sentence => Once you’re done with this tutorial, you won’t believe how\n",
      "simple it is to implement the task.\n",
      "{'As part of being a Fullstack developer, it is important to\\nknow how to choose the right stack for each product you\\ndevelop, depending on the requirements and limitations.': 29, '\\nI’ve been asked by a few friends to develop a feature for a\\nWhatsApp chatbot of mine, that summarizes articles based on\\nURL inputs.': 41, 'For web crawling, I love using Python.': 21, 'The Python community\\nis filled with efficient, easy to implement open source\\nlibraries both for web crawling and text summarization.': 34, 'I like this feature because from my personal\\nresearch, 65% of group users don’t even click the shared URLs,\\nbut 97% of them will read a few lines of the articles summary.': 44, 'So when a friend sends an article to a WhatsApp\\ngroup, the bot will reply with a summary of the given URL\\narticle.': 29, 'Once you’re done with this tutorial, you won’t believe how\\nsimple it is to implement the task.': 2}\n",
      "Word => tutori\n",
      "Sentence => Once you’re done with this tutorial, you won’t believe how\n",
      "simple it is to implement the task.\n",
      "{'As part of being a Fullstack developer, it is important to\\nknow how to choose the right stack for each product you\\ndevelop, depending on the requirements and limitations.': 29, '\\nI’ve been asked by a few friends to develop a feature for a\\nWhatsApp chatbot of mine, that summarizes articles based on\\nURL inputs.': 41, 'For web crawling, I love using Python.': 21, 'The Python community\\nis filled with efficient, easy to implement open source\\nlibraries both for web crawling and text summarization.': 34, 'I like this feature because from my personal\\nresearch, 65% of group users don’t even click the shared URLs,\\nbut 97% of them will read a few lines of the articles summary.': 44, 'So when a friend sends an article to a WhatsApp\\ngroup, the bot will reply with a summary of the given URL\\narticle.': 29, 'Once you’re done with this tutorial, you won’t believe how\\nsimple it is to implement the task.': 3}\n",
      "Word => ask\n",
      "Sentence => Once you’re done with this tutorial, you won’t believe how\n",
      "simple it is to implement the task.\n",
      "{'As part of being a Fullstack developer, it is important to\\nknow how to choose the right stack for each product you\\ndevelop, depending on the requirements and limitations.': 29, '\\nI’ve been asked by a few friends to develop a feature for a\\nWhatsApp chatbot of mine, that summarizes articles based on\\nURL inputs.': 41, 'For web crawling, I love using Python.': 21, 'The Python community\\nis filled with efficient, easy to implement open source\\nlibraries both for web crawling and text summarization.': 34, 'I like this feature because from my personal\\nresearch, 65% of group users don’t even click the shared URLs,\\nbut 97% of them will read a few lines of the articles summary.': 44, 'So when a friend sends an article to a WhatsApp\\ngroup, the bot will reply with a summary of the given URL\\narticle.': 29, 'Once you’re done with this tutorial, you won’t believe how\\nsimple it is to implement the task.': 4}\n",
      "Word => implement\n",
      "Sentence => Once you’re done with this tutorial, you won’t believe how\n",
      "simple it is to implement the task.\n",
      "{'As part of being a Fullstack developer, it is important to\\nknow how to choose the right stack for each product you\\ndevelop, depending on the requirements and limitations.': 29, '\\nI’ve been asked by a few friends to develop a feature for a\\nWhatsApp chatbot of mine, that summarizes articles based on\\nURL inputs.': 41, 'For web crawling, I love using Python.': 21, 'The Python community\\nis filled with efficient, easy to implement open source\\nlibraries both for web crawling and text summarization.': 34, 'I like this feature because from my personal\\nresearch, 65% of group users don’t even click the shared URLs,\\nbut 97% of them will read a few lines of the articles summary.': 44, 'So when a friend sends an article to a WhatsApp\\ngroup, the bot will reply with a summary of the given URL\\narticle.': 29, 'Once you’re done with this tutorial, you won’t believe how\\nsimple it is to implement the task.': 6}\n",
      "Word => ’\n",
      "Sentence => Once you’re done with this tutorial, you won’t believe how\n",
      "simple it is to implement the task.\n",
      "{'As part of being a Fullstack developer, it is important to\\nknow how to choose the right stack for each product you\\ndevelop, depending on the requirements and limitations.': 29, '\\nI’ve been asked by a few friends to develop a feature for a\\nWhatsApp chatbot of mine, that summarizes articles based on\\nURL inputs.': 41, 'For web crawling, I love using Python.': 21, 'The Python community\\nis filled with efficient, easy to implement open source\\nlibraries both for web crawling and text summarization.': 34, 'I like this feature because from my personal\\nresearch, 65% of group users don’t even click the shared URLs,\\nbut 97% of them will read a few lines of the articles summary.': 44, 'So when a friend sends an article to a WhatsApp\\ngroup, the bot will reply with a summary of the given URL\\narticle.': 29, 'Once you’re done with this tutorial, you won’t believe how\\nsimple it is to implement the task.': 10}\n",
      "Word => done\n",
      "Sentence => Once you’re done with this tutorial, you won’t believe how\n",
      "simple it is to implement the task.\n",
      "{'As part of being a Fullstack developer, it is important to\\nknow how to choose the right stack for each product you\\ndevelop, depending on the requirements and limitations.': 29, '\\nI’ve been asked by a few friends to develop a feature for a\\nWhatsApp chatbot of mine, that summarizes articles based on\\nURL inputs.': 41, 'For web crawling, I love using Python.': 21, 'The Python community\\nis filled with efficient, easy to implement open source\\nlibraries both for web crawling and text summarization.': 34, 'I like this feature because from my personal\\nresearch, 65% of group users don’t even click the shared URLs,\\nbut 97% of them will read a few lines of the articles summary.': 44, 'So when a friend sends an article to a WhatsApp\\ngroup, the bot will reply with a summary of the given URL\\narticle.': 29, 'Once you’re done with this tutorial, you won’t believe how\\nsimple it is to implement the task.': 11}\n",
      "Word => .\n",
      "Sentence => Once you’re done with this tutorial, you won’t believe how\n",
      "simple it is to implement the task.\n",
      "{'As part of being a Fullstack developer, it is important to\\nknow how to choose the right stack for each product you\\ndevelop, depending on the requirements and limitations.': 29, '\\nI’ve been asked by a few friends to develop a feature for a\\nWhatsApp chatbot of mine, that summarizes articles based on\\nURL inputs.': 41, 'For web crawling, I love using Python.': 21, 'The Python community\\nis filled with efficient, easy to implement open source\\nlibraries both for web crawling and text summarization.': 34, 'I like this feature because from my personal\\nresearch, 65% of group users don’t even click the shared URLs,\\nbut 97% of them will read a few lines of the articles summary.': 44, 'So when a friend sends an article to a WhatsApp\\ngroup, the bot will reply with a summary of the given URL\\narticle.': 29, 'Once you’re done with this tutorial, you won’t believe how\\nsimple it is to implement the task.': 18}\n",
      "Word => ,\n",
      "Sentence => Once you’re done with this tutorial, you won’t believe how\n",
      "simple it is to implement the task.\n",
      "{'As part of being a Fullstack developer, it is important to\\nknow how to choose the right stack for each product you\\ndevelop, depending on the requirements and limitations.': 29, '\\nI’ve been asked by a few friends to develop a feature for a\\nWhatsApp chatbot of mine, that summarizes articles based on\\nURL inputs.': 41, 'For web crawling, I love using Python.': 21, 'The Python community\\nis filled with efficient, easy to implement open source\\nlibraries both for web crawling and text summarization.': 34, 'I like this feature because from my personal\\nresearch, 65% of group users don’t even click the shared URLs,\\nbut 97% of them will read a few lines of the articles summary.': 44, 'So when a friend sends an article to a WhatsApp\\ngroup, the bot will reply with a summary of the given URL\\narticle.': 29, 'Once you’re done with this tutorial, you won’t believe how\\nsimple it is to implement the task.': 27}\n",
      "Word => believ\n",
      "Sentence => Once you’re done with this tutorial, you won’t believe how\n",
      "simple it is to implement the task.\n",
      "{'As part of being a Fullstack developer, it is important to\\nknow how to choose the right stack for each product you\\ndevelop, depending on the requirements and limitations.': 29, '\\nI’ve been asked by a few friends to develop a feature for a\\nWhatsApp chatbot of mine, that summarizes articles based on\\nURL inputs.': 41, 'For web crawling, I love using Python.': 21, 'The Python community\\nis filled with efficient, easy to implement open source\\nlibraries both for web crawling and text summarization.': 34, 'I like this feature because from my personal\\nresearch, 65% of group users don’t even click the shared URLs,\\nbut 97% of them will read a few lines of the articles summary.': 44, 'So when a friend sends an article to a WhatsApp\\ngroup, the bot will reply with a summary of the given URL\\narticle.': 29, 'Once you’re done with this tutorial, you won’t believe how\\nsimple it is to implement the task.': 28}\n"
     ]
    }
   ],
   "source": [
    "sent_table = dict()\n",
    "for sentence in sentences:\n",
    "    for word, freq in freq_table.items():\n",
    "        if word in sentence:\n",
    "            if sentence in sent_table:\n",
    "                print(\"Word =>\",word)\n",
    "                sent_table[sentence] += freq\n",
    "                print(\"Sentence =>\",sentence)\n",
    "                print(sent_table)\n",
    "            else:\n",
    "                print(\"Word =>\",word)\n",
    "                sent_table[sentence] = freq\n",
    "                print(\"Sentence =>\",sentence)\n",
    "                print(sent_table)"
   ]
  },
  {
   "cell_type": "code",
   "execution_count": 13,
   "metadata": {},
   "outputs": [
    {
     "name": "stdout",
     "output_type": "stream",
     "text": [
      "{'As part of being a Fullstack developer, it is important to\\nknow how to choose the right stack for each product you\\ndevelop, depending on the requirements and limitations.': 29, '\\nI’ve been asked by a few friends to develop a feature for a\\nWhatsApp chatbot of mine, that summarizes articles based on\\nURL inputs.': 37, 'For web crawling, I love using Python.': 21, 'The Python community\\nis filled with efficient, easy to implement open source\\nlibraries both for web crawling and text summarization.': 32, 'I like this feature because from my personal\\nresearch, 65% of group users don’t even click the shared URLs,\\nbut 97% of them will read a few lines of the articles summary.': 45, 'So when a friend sends an article to a WhatsApp\\ngroup, the bot will reply with a summary of the given URL\\narticle.': 29, 'Once you’re done with this tutorial, you won’t believe how\\nsimple it is to implement the task.': 28}\n"
     ]
    }
   ],
   "source": [
    "print(sent_table)"
   ]
  },
  {
   "cell_type": "code",
   "execution_count": 22,
   "metadata": {},
   "outputs": [
    {
     "name": "stdout",
     "output_type": "stream",
     "text": [
      "{'As part of being a Fullstack developer, it is important to\\nknow how to choose the right stack for each product you\\ndevelop, depending on the requirements and limitations.': 29, '\\nI’ve been asked by a few friends to develop a feature for a\\nWhatsApp chatbot of mine, that summarizes articles based on\\nURL inputs.': 41, 'For web crawling, I love using Python.': 21, 'The Python community\\nis filled with efficient, easy to implement open source\\nlibraries both for web crawling and text summarization.': 34, 'I like this feature because from my personal\\nresearch, 65% of group users don’t even click the shared URLs,\\nbut 97% of them will read a few lines of the articles summary.': 44, 'So when a friend sends an article to a WhatsApp\\ngroup, the bot will reply with a summary of the given URL\\narticle.': 29, 'Once you’re done with this tutorial, you won’t believe how\\nsimple it is to implement the task.': 28}\n"
     ]
    }
   ],
   "source": [
    "print(sent_table)"
   ]
  },
  {
   "cell_type": "code",
   "execution_count": 24,
   "metadata": {},
   "outputs": [],
   "source": [
    "sum_value = 0\n",
    "\n",
    "for s in sent_table.values():\n",
    "    sum_value += s"
   ]
  },
  {
   "cell_type": "code",
   "execution_count": 25,
   "metadata": {},
   "outputs": [
    {
     "data": {
      "text/plain": [
       "226"
      ]
     },
     "execution_count": 25,
     "metadata": {},
     "output_type": "execute_result"
    }
   ],
   "source": [
    "sum_value"
   ]
  },
  {
   "cell_type": "code",
   "execution_count": 26,
   "metadata": {
    "collapsed": true
   },
   "outputs": [],
   "source": [
    "avg = int(sum_value/len(sent_table))"
   ]
  },
  {
   "cell_type": "code",
   "execution_count": 27,
   "metadata": {},
   "outputs": [
    {
     "data": {
      "text/plain": [
       "32"
      ]
     },
     "execution_count": 27,
     "metadata": {},
     "output_type": "execute_result"
    }
   ],
   "source": [
    "avg"
   ]
  },
  {
   "cell_type": "code",
   "execution_count": 35,
   "metadata": {
    "collapsed": true
   },
   "outputs": [],
   "source": [
    "summary = \"\"\n",
    "\n",
    "for sentence in sentences:\n",
    "    if sent_table[sentence] > avg * 1.2 and sentence in sent_table:\n",
    "        summary += sentence"
   ]
  },
  {
   "cell_type": "code",
   "execution_count": 36,
   "metadata": {},
   "outputs": [
    {
     "name": "stdout",
     "output_type": "stream",
     "text": [
      "\n",
      "I’ve been asked by a few friends to develop a feature for a\n",
      "WhatsApp chatbot of mine, that summarizes articles based on\n",
      "URL inputs.I like this feature because from my personal\n",
      "research, 65% of group users don’t even click the shared URLs,\n",
      "but 97% of them will read a few lines of the articles summary.\n"
     ]
    }
   ],
   "source": [
    "print(summary)"
   ]
  },
  {
   "cell_type": "code",
   "execution_count": null,
   "metadata": {
    "collapsed": true
   },
   "outputs": [],
   "source": []
  }
 ],
 "metadata": {
  "kernelspec": {
   "display_name": "Python 3",
   "language": "python",
   "name": "python3"
  },
  "language_info": {
   "codemirror_mode": {
    "name": "ipython",
    "version": 3
   },
   "file_extension": ".py",
   "mimetype": "text/x-python",
   "name": "python",
   "nbconvert_exporter": "python",
   "pygments_lexer": "ipython3",
   "version": "3.5.4"
  }
 },
 "nbformat": 4,
 "nbformat_minor": 2
}
