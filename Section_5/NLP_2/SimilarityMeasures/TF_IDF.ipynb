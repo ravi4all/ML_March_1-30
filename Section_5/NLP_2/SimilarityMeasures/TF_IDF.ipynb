{
 "cells": [
  {
   "cell_type": "code",
   "execution_count": 1,
   "metadata": {
    "collapsed": true
   },
   "outputs": [],
   "source": [
    "import numpy as np\n",
    "from math import *"
   ]
  },
  {
   "cell_type": "code",
   "execution_count": 2,
   "metadata": {
    "collapsed": true
   },
   "outputs": [],
   "source": [
    "# TF-IDF - Term Frequency and Inverse Document Frequency\n",
    "\n",
    "document_1 = \"How can I be a good crickter\"\n",
    "document_2 = \"What should I do to become a great cricketer\"\n",
    "\n",
    "document = [document_1, document_2]"
   ]
  },
  {
   "cell_type": "code",
   "execution_count": 13,
   "metadata": {},
   "outputs": [
    {
     "data": {
      "text/plain": [
       "['How can I be a good crickter',\n",
       " 'What should I do to become a great cricketer']"
      ]
     },
     "execution_count": 13,
     "metadata": {},
     "output_type": "execute_result"
    }
   ],
   "source": [
    "document"
   ]
  },
  {
   "cell_type": "code",
   "execution_count": 3,
   "metadata": {
    "collapsed": true
   },
   "outputs": [],
   "source": [
    "# Step 1 - Term-frequency (TF)\n",
    "\n",
    "def term_frequency(str):\n",
    "    counts = dict()\n",
    "    words = str.split()\n",
    "    \n",
    "    for word in words:\n",
    "        if word in counts:\n",
    "            counts[word] += 1\n",
    "        else:\n",
    "            counts[word] = 1\n",
    "    \n",
    "    return counts"
   ]
  },
  {
   "cell_type": "code",
   "execution_count": 4,
   "metadata": {},
   "outputs": [
    {
     "name": "stdout",
     "output_type": "stream",
     "text": [
      "{'How': 1, 'be': 1, 'a': 1, 'can': 1, 'crickter': 1, 'good': 1, 'I': 1}\n",
      "{'to': 1, 'What': 1, 'great': 1, 'do': 1, 'should': 1, 'a': 1, 'cricketer': 1, 'become': 1, 'I': 1}\n"
     ]
    }
   ],
   "source": [
    "for doc in document:\n",
    "    print(term_frequency(doc))"
   ]
  },
  {
   "cell_type": "code",
   "execution_count": 5,
   "metadata": {
    "collapsed": true
   },
   "outputs": [],
   "source": [
    "def normalize_tf(term, doc):\n",
    "    print(\"TF for\",term)\n",
    "    normalize_document = doc.lower().split()\n",
    "    return normalize_document.count(term.lower()) / float(len(normalize_document))"
   ]
  },
  {
   "cell_type": "code",
   "execution_count": 6,
   "metadata": {},
   "outputs": [
    {
     "name": "stdout",
     "output_type": "stream",
     "text": [
      "TF for How\n"
     ]
    },
    {
     "data": {
      "text/plain": [
       "0.14285714285714285"
      ]
     },
     "execution_count": 6,
     "metadata": {},
     "output_type": "execute_result"
    }
   ],
   "source": [
    "normalize_tf('How',document_1)"
   ]
  },
  {
   "cell_type": "code",
   "execution_count": 7,
   "metadata": {},
   "outputs": [
    {
     "name": "stdout",
     "output_type": "stream",
     "text": [
      "TF for How\n",
      "TF for can\n",
      "TF for I\n",
      "TF for be\n",
      "TF for a\n",
      "TF for good\n",
      "TF for crickter\n",
      "TF for What\n",
      "TF for should\n",
      "TF for I\n",
      "TF for do\n",
      "TF for to\n",
      "TF for become\n",
      "TF for a\n",
      "TF for great\n",
      "TF for cricketer\n"
     ]
    }
   ],
   "source": [
    "n_tf = []\n",
    "\n",
    "for terms in document:\n",
    "    termList = terms.split()\n",
    "    for t in termList:\n",
    "        n_tf.append(normalize_tf(t, terms))"
   ]
  },
  {
   "cell_type": "code",
   "execution_count": 8,
   "metadata": {},
   "outputs": [
    {
     "name": "stdout",
     "output_type": "stream",
     "text": [
      "[0.14285714285714285, 0.14285714285714285, 0.14285714285714285, 0.14285714285714285, 0.14285714285714285, 0.14285714285714285, 0.14285714285714285, 0.1111111111111111, 0.1111111111111111, 0.1111111111111111, 0.1111111111111111, 0.1111111111111111, 0.1111111111111111, 0.1111111111111111, 0.1111111111111111, 0.1111111111111111]\n"
     ]
    }
   ],
   "source": [
    "print(n_tf)"
   ]
  },
  {
   "cell_type": "code",
   "execution_count": 9,
   "metadata": {
    "collapsed": true
   },
   "outputs": [],
   "source": [
    "# Step 2 IDF - Inverse Document Frequency\n",
    "\n",
    "# IDF(cricketer) = 1 + loge(Total Number Of Documents / Number Of Documents with term in it)\n",
    "\n",
    "# There are 2 documents in all = Document1, Document2\n",
    "# The term cricketer appears in Document1 and 2\n",
    "\n",
    "# IDF(cricketer) = 1 + loge(2 / 1)\n",
    "#           = 1 + 0.6931471\n",
    "#           = 1.6931471"
   ]
  },
  {
   "cell_type": "code",
   "execution_count": 11,
   "metadata": {
    "collapsed": true
   },
   "outputs": [],
   "source": [
    "def inverseDocFreq(term, all_doc):\n",
    "    numDocwithThisTerm = 0\n",
    "    for doc in all_doc:\n",
    "        if term.lower() in all_doc[doc].lower().split():\n",
    "            numDocwithThisTerm += 1\n",
    "    if numDocumentsWithThisTerm > 0:\n",
    "        return 1.0 + log(float(len(allDocuments)) / numDocumentsWithThisTerm)\n",
    "    else:\n",
    "        return 1.0"
   ]
  },
  {
   "cell_type": "code",
   "execution_count": 16,
   "metadata": {
    "collapsed": true
   },
   "outputs": [],
   "source": [
    "document = []"
   ]
  },
  {
   "cell_type": "code",
   "execution_count": 17,
   "metadata": {
    "collapsed": true
   },
   "outputs": [],
   "source": [
    "document.append([document_1])\n",
    "document.append([document_2])"
   ]
  },
  {
   "cell_type": "code",
   "execution_count": 18,
   "metadata": {},
   "outputs": [
    {
     "data": {
      "text/plain": [
       "[['How can I be a good crickter'],\n",
       " ['What should I do to become a great cricketer']]"
      ]
     },
     "execution_count": 18,
     "metadata": {},
     "output_type": "execute_result"
    }
   ],
   "source": [
    "document"
   ]
  },
  {
   "cell_type": "code",
   "execution_count": null,
   "metadata": {
    "collapsed": true
   },
   "outputs": [],
   "source": []
  }
 ],
 "metadata": {
  "kernelspec": {
   "display_name": "Python 3",
   "language": "python",
   "name": "python3"
  },
  "language_info": {
   "codemirror_mode": {
    "name": "ipython",
    "version": 3
   },
   "file_extension": ".py",
   "mimetype": "text/x-python",
   "name": "python",
   "nbconvert_exporter": "python",
   "pygments_lexer": "ipython3",
   "version": "3.5.4"
  }
 },
 "nbformat": 4,
 "nbformat_minor": 2
}
