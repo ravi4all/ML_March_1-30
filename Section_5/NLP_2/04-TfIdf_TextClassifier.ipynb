{
 "cells": [
  {
   "cell_type": "code",
   "execution_count": 1,
   "metadata": {
    "collapsed": true
   },
   "outputs": [],
   "source": [
    "# TF : Term Frequency - which means how frequently a term occurs in a documnent\n",
    "# IDF : Inverse Document Frequeny - which measures how important a term is.\n",
    "\n",
    "from sklearn.datasets import fetch_20newsgroups"
   ]
  },
  {
   "cell_type": "code",
   "execution_count": 2,
   "metadata": {
    "collapsed": true
   },
   "outputs": [],
   "source": [
    "category_map = {'misc.forsale' : 'Sales', \n",
    "                'rec.motorcycles' : 'Motorcycles',\n",
    "               'rec.sport.baseball' : 'Baseball',\n",
    "               'sci.crypt' : 'Cryptography',\n",
    "               'sci.space' : 'Space'}\n",
    "\n",
    "training_data = fetch_20newsgroups(subset = 'train', \n",
    "                                   categories = category_map.keys())"
   ]
  },
  {
   "cell_type": "code",
   "execution_count": 3,
   "metadata": {},
   "outputs": [
    {
     "data": {
      "text/plain": [
       "dict_keys(['filenames', 'target_names', 'DESCR', 'description', 'data', 'target'])"
      ]
     },
     "execution_count": 3,
     "metadata": {},
     "output_type": "execute_result"
    }
   ],
   "source": [
    "training_data.keys()"
   ]
  },
  {
   "cell_type": "code",
   "execution_count": 14,
   "metadata": {},
   "outputs": [
    {
     "name": "stdout",
     "output_type": "stream",
     "text": [
      "From: pyron@skndiv.dseg.ti.com (Dillon Pyron)\n",
      "Subject: Re: A WRENCH in the works?\n",
      "Lines: 31\n",
      "Nntp-Posting-Host: skndiv.dseg.ti.com\n",
      "Reply-To: pyron@skndiv.dseg.ti.com\n",
      "Organization: TI/DSEG VAX Support\n",
      "\n",
      "\n",
      "In article <25228@ksr.com>, jfw@ksr.com (John F. Woods) writes:\n",
      ">nanderso@Endor.sim.es.com (Norman Anderson) writes:\n",
      ">>jmcocker@eos.ncsu.edu (Mitch) writes:\n",
      ">>>effect that one of the SSRBs that was recovered after the\n",
      ">>>recent space shuttle launch was found to have a wrench of\n",
      ">>>some sort rattling around apparently inside the case.\n",
      ">>I heard a similar statement in our local news (UTAH) tonight. They referred\n",
      ">>to the tool as \"...the PLIERS that took a ride into space...\". They also\n",
      ">>said that a Thiokol (sp?) employee had reported missing a tool of some kind\n",
      ">>during assembly of one SRB.\n",
      "\n",
      "It was a test of the first reusable tool.\n",
      "\n",
      ">\n",
      ">I assume, then, that someone at Thiokol put on their \"manager's hat\" and said\n",
      ">that pissing off the customer by delaying shipment of the SRB to look inside\n",
      ">it was a bad idea, regardless of where that tool might have ended up.\n",
      ">\n",
      ">Why do I get the feeling that Thiokol \"manager's hats\" are shaped like cones?\n",
      "\n",
      "Pointy so they can find them or so they will stick into their pants better, and\n",
      "be closer to their brains?\n",
      "--\n",
      "Dillon Pyron                      | The opinions expressed are those of the\n",
      "TI/DSEG Lewisville VAX Support    | sender unless otherwise stated.\n",
      "(214)462-3556 (when I'm here)     |\n",
      "(214)492-4656 (when I'm home)     |Texans: Vote NO on Robin Hood.  We need\n",
      "pyron@skndiv.dseg.ti.com          |solutions, not gestures.\n",
      "PADI DM-54909                     |\n",
      "\n",
      "\n"
     ]
    }
   ],
   "source": [
    "# print(training_data['target_names'])\n",
    "# print(len(training_data['target']))\n",
    "# print(training_data['target'][:50])\n",
    "print(training_data['data'][3])"
   ]
  },
  {
   "cell_type": "code",
   "execution_count": 20,
   "metadata": {},
   "outputs": [
    {
     "name": "stdout",
     "output_type": "stream",
     "text": [
      "['misc.forsale', 'rec.motorcycles', 'rec.sport.baseball', 'sci.crypt', 'sci.space']\n"
     ]
    }
   ],
   "source": [
    "print(training_data.target_names)"
   ]
  },
  {
   "cell_type": "code",
   "execution_count": 15,
   "metadata": {},
   "outputs": [
    {
     "name": "stdout",
     "output_type": "stream",
     "text": [
      "Dimensions of training data : (2968, 40605)\n"
     ]
    }
   ],
   "source": [
    "from sklearn.feature_extraction.text import CountVectorizer\n",
    "\n",
    "vect = CountVectorizer()\n",
    "\n",
    "X_train_termcounts = vect.fit_transform(training_data.data)\n",
    "\n",
    "print('Dimensions of training data :',X_train_termcounts.shape)"
   ]
  },
  {
   "cell_type": "code",
   "execution_count": 16,
   "metadata": {},
   "outputs": [
    {
     "data": {
      "text/plain": [
       "array([2, 2, 2, ..., 2, 4, 4], dtype=int64)"
      ]
     },
     "execution_count": 16,
     "metadata": {},
     "output_type": "execute_result"
    }
   ],
   "source": [
    "# type(X_train_termcounts)\n",
    "# print(X_train_termcounts[0])\n",
    "training_data.target"
   ]
  },
  {
   "cell_type": "code",
   "execution_count": 18,
   "metadata": {
    "collapsed": true
   },
   "outputs": [],
   "source": [
    "from sklearn.naive_bayes import MultinomialNB\n",
    "from sklearn.feature_extraction.text import TfidfTransformer"
   ]
  },
  {
   "cell_type": "code",
   "execution_count": 19,
   "metadata": {
    "collapsed": true
   },
   "outputs": [],
   "source": [
    "input_data = [\n",
    "    \"The one holds a bat and another holds a ball\",\n",
    "    \"I was riding my bike on mountain\",\n",
    "    \"ISRO is helping India to reach Mars\"\n",
    "]"
   ]
  },
  {
   "cell_type": "code",
   "execution_count": 22,
   "metadata": {
    "collapsed": true
   },
   "outputs": [],
   "source": [
    "tfidf = TfidfTransformer()\n",
    "X_train_tfidf = tfidf.fit_transform(X_train_termcounts)\n",
    "\n",
    "classifier = MultinomialNB()\n",
    "classifier.fit(X_train_tfidf, training_data.target)\n",
    "\n",
    "X_input_termcounts = vect.transform(input_data)\n",
    "X_input_tfidf = tfidf.transform(X_input_termcounts)"
   ]
  },
  {
   "cell_type": "code",
   "execution_count": 23,
   "metadata": {
    "collapsed": true
   },
   "outputs": [],
   "source": [
    "predicted_categories = classifier.predict(X_input_tfidf)"
   ]
  },
  {
   "cell_type": "code",
   "execution_count": 25,
   "metadata": {},
   "outputs": [
    {
     "name": "stdout",
     "output_type": "stream",
     "text": [
      "[2 1 4]\n"
     ]
    }
   ],
   "source": [
    "print(predicted_categories)"
   ]
  },
  {
   "cell_type": "code",
   "execution_count": 24,
   "metadata": {},
   "outputs": [
    {
     "name": "stdout",
     "output_type": "stream",
     "text": [
      "\n",
      " Input : The one holds a bat and another holds a ball \n",
      "Predicted Category : Baseball\n",
      "\n",
      " Input : I was riding my bike on mountain \n",
      "Predicted Category : Motorcycles\n",
      "\n",
      " Input : ISRO is helping India to reach Mars \n",
      "Predicted Category : Space\n"
     ]
    }
   ],
   "source": [
    "for sentence, category in zip(input_data, predicted_categories):\n",
    "    print(\"\\n Input :\",sentence, \"\\nPredicted Category :\",category_map[training_data.target_names[category]])"
   ]
  },
  {
   "cell_type": "code",
   "execution_count": 9,
   "metadata": {
    "collapsed": true
   },
   "outputs": [],
   "source": [
    "testing_data = fetch_20newsgroups(subset = 'test', \n",
    "                                   categories = category_map.keys())"
   ]
  },
  {
   "cell_type": "code",
   "execution_count": 11,
   "metadata": {},
   "outputs": [
    {
     "data": {
      "text/plain": [
       "6"
      ]
     },
     "execution_count": 11,
     "metadata": {},
     "output_type": "execute_result"
    }
   ],
   "source": [
    "len(testing_data)"
   ]
  },
  {
   "cell_type": "code",
   "execution_count": 13,
   "metadata": {
    "collapsed": true
   },
   "outputs": [],
   "source": [
    "test_data = vect.fit_transform(testing_data.data)"
   ]
  },
  {
   "cell_type": "code",
   "execution_count": 14,
   "metadata": {},
   "outputs": [
    {
     "data": {
      "text/plain": [
       "(1975, 28277)"
      ]
     },
     "execution_count": 14,
     "metadata": {},
     "output_type": "execute_result"
    }
   ],
   "source": [
    "test_data.shape"
   ]
  },
  {
   "cell_type": "code",
   "execution_count": 16,
   "metadata": {
    "collapsed": true
   },
   "outputs": [],
   "source": [
    "tfidf_test = tfidf.fit_transform(test_data)"
   ]
  },
  {
   "cell_type": "code",
   "execution_count": 17,
   "metadata": {},
   "outputs": [
    {
     "data": {
      "text/plain": [
       "(1975, 28277)"
      ]
     },
     "execution_count": 17,
     "metadata": {},
     "output_type": "execute_result"
    }
   ],
   "source": [
    "tfidf_test.shape"
   ]
  },
  {
   "cell_type": "code",
   "execution_count": 19,
   "metadata": {},
   "outputs": [
    {
     "data": {
      "text/plain": [
       "(3, 40605)"
      ]
     },
     "execution_count": 19,
     "metadata": {},
     "output_type": "execute_result"
    }
   ],
   "source": [
    "X_input_tfidf.shape"
   ]
  },
  {
   "cell_type": "code",
   "execution_count": 29,
   "metadata": {
    "collapsed": true
   },
   "outputs": [],
   "source": [
    "test_x = testing_data.data\n",
    "test_y = testing_data.target"
   ]
  },
  {
   "cell_type": "code",
   "execution_count": 31,
   "metadata": {},
   "outputs": [
    {
     "data": {
      "text/plain": [
       "1975"
      ]
     },
     "execution_count": 31,
     "metadata": {},
     "output_type": "execute_result"
    }
   ],
   "source": [
    "len(test_x)"
   ]
  },
  {
   "cell_type": "code",
   "execution_count": 32,
   "metadata": {},
   "outputs": [
    {
     "data": {
      "text/plain": [
       "1975"
      ]
     },
     "execution_count": 32,
     "metadata": {},
     "output_type": "execute_result"
    }
   ],
   "source": [
    "len(test_y)"
   ]
  },
  {
   "cell_type": "code",
   "execution_count": 34,
   "metadata": {
    "collapsed": true
   },
   "outputs": [],
   "source": [
    "import numpy as np"
   ]
  },
  {
   "cell_type": "code",
   "execution_count": 39,
   "metadata": {},
   "outputs": [
    {
     "data": {
      "text/plain": [
       "'Subject: Re: Math?? (Was US govt & Technolgy Investment\\nFrom: kubo@zariski.harvard.edu (Tal Kubo)\\nOrganization: Dept. of Math, Harvard Univ.\\nKeywords: science?\\nNntp-Posting-Host: zariski.harvard.edu\\nLines: 14\\n\\n\\n>greg mccolm suggested that math is a good example of the inertia\\n>(silver age) of current science.....\\n>\\n>is math really a science? what new has math \"told\" us recently?\\n>please dont flame me... ive taken no math since 11th grade...\\n>completed BC calc early and go the hell out... is there really\\n>NEW stuff going on?? (im not flaming, but honestly durious...)\\n\\n\\nNope.  We\\'re just living off the inheritance from our forefathers,\\nreading dusty old books, and exchanging baroque incantations among\\na small circle of devotees.\\n\\n'"
      ]
     },
     "execution_count": 39,
     "metadata": {},
     "output_type": "execute_result"
    }
   ],
   "source": [
    "test_x.pop()"
   ]
  },
  {
   "cell_type": "code",
   "execution_count": 40,
   "metadata": {
    "collapsed": true
   },
   "outputs": [],
   "source": [
    "test_x = np.reshape(test_x, (-1,2))"
   ]
  },
  {
   "cell_type": "code",
   "execution_count": 18,
   "metadata": {
    "collapsed": true
   },
   "outputs": [],
   "source": [
    "# from nltk.classify import NaiveBayesClassifier\n",
    "\n",
    "# classfier_2 = NaiveBayesClassifier.train(X)\n",
    "# print(\"Accuracy :\",nltk.classify.accuracy(classfier_2, test_x))"
   ]
  },
  {
   "cell_type": "code",
   "execution_count": null,
   "metadata": {
    "collapsed": true
   },
   "outputs": [],
   "source": []
  }
 ],
 "metadata": {
  "kernelspec": {
   "display_name": "Python 3",
   "language": "python",
   "name": "python3"
  },
  "language_info": {
   "codemirror_mode": {
    "name": "ipython",
    "version": 3
   },
   "file_extension": ".py",
   "mimetype": "text/x-python",
   "name": "python",
   "nbconvert_exporter": "python",
   "pygments_lexer": "ipython3",
   "version": "3.5.4"
  }
 },
 "nbformat": 4,
 "nbformat_minor": 2
}
